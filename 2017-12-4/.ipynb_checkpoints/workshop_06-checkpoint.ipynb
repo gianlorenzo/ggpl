{
 "cells": [
  {
   "cell_type": "markdown",
   "metadata": {},
   "source": [
    "## WORKSHOP 6\n"
   ]
  },
  {
   "cell_type": "markdown",
   "metadata": {},
   "source": [
    "### Conversione in PyPlasm del codice per la realizzazione del modello geometrico di Santo Stefano Rotondo al Celio"
   ]
  },
  {
   "cell_type": "code",
   "execution_count": 1,
   "metadata": {},
   "outputs": [
    {
     "name": "stdout",
     "output_type": "stream",
     "text": [
      "Evaluating fenvs.py..\n",
      "...fenvs.py imported in 0.00633055708635 seconds\n"
     ]
    }
   ],
   "source": [
    "from pyplasm import *\n",
    "from math import *"
   ]
  },
  {
   "cell_type": "markdown",
   "metadata": {},
   "source": [
    "#### Misure di riferimento (cubito = 0.462 m)"
   ]
  },
  {
   "cell_type": "raw",
   "metadata": {},
   "source": [
    "%*************************************************************%\n",
    "%---Misure di riferimento--(cubito = 0.462 m)-----------------%\n",
    "%*************************************************************%\n",
    "\n",
    "%-- 1 cubito = 444 mm ----------------------------------------%\n",
    "DEF r0 = 24; %---cubiti; raggio interno del muro interno------%\n",
    "DEF r2 = 48; %---cubiti; raggio esterno del muro medio--------%\n",
    "DEF r3 = 72; %---cubiti; raggio esterno del muro esterno------%\n",
    "DEF r4 = 88; %---cubiti; raggio esterno scale esterne---------%\n",
    "\n",
    "DEF wsteps = 10;  %---cubiti; profondita' scale esterne-------%\n",
    "DEF nsteps = 10;  %---numero alzate/pedate scale esterne------%\n",
    "DEF wstep = wsteps/nsteps; %---cubiti; larghezza pedata-------%\n",
    "DEF hstep = 1/3; %---cubiti; altezza alzata-------------------%\n",
    "DEF hw4 = 29; %--cubiti; altezza all'imposta del muro esterno-%\n",
    "DEF hbasament = hstep*nsteps;\n"
   ]
  },
  {
   "cell_type": "code",
   "execution_count": 2,
   "metadata": {
    "collapsed": true
   },
   "outputs": [],
   "source": [
    "r0 = 24\n",
    "r2 = 48\n",
    "r3 = 72\n",
    "r4 = 88\n",
    "wsteps = 10\n",
    "nsteps = 10\n",
    "wstep = wsteps/nsteps\n",
    "hstep = 1/3\n",
    "hw4 = 29\n",
    "hbasament = hstep*nsteps"
   ]
  },
  {
   "cell_type": "markdown",
   "metadata": {},
   "source": [
    "#### Mappa cilindrica"
   ]
  },
  {
   "cell_type": "raw",
   "metadata": {},
   "source": [
    "%-------------------------------------------------------------%\n",
    "%---Mappa cilindrica------------------------------------------%\n",
    "%-------------------------------------------------------------%\n",
    "\n",
    "DEF cylMap = MAP:[S2 * sin ~ S1, S2 * cos ~ S1, S3];"
   ]
  },
  {
   "cell_type": "code",
   "execution_count": 3,
   "metadata": {
    "collapsed": true
   },
   "outputs": [],
   "source": [
    "def cylMap():\n",
    "    x= lambda k: k[1]*COS(k[0])\n",
    "    y= lambda k: k[1]*SIN(k[0])\n",
    "    z= lambda k: k[2]\n",
    "    return MAP([x,y,z])\n",
    "\n",
    " \n"
   ]
  },
  {
   "cell_type": "markdown",
   "metadata": {},
   "source": [
    "#### Scala esterna"
   ]
  },
  {
   "cell_type": "raw",
   "metadata": {},
   "source": [
    "%-------------------------------------------------------------%\n",
    "%---Scala esterna---------------------------------------------%\n",
    "%-------------------------------------------------------------%\n",
    "\n",
    "DEF vdom (h::IsRealPos) = ((EMBED:1 ~ Intervals:(PI*3/24)):3) * QUOTE:<h>;\n",
    "DEF hdom (w::IsRealPos) = (S:2:-1 ~ EMBED:1):(Intervals:(PI*3/24):3 * QUOTE:<w>);\n",
    "\n",
    "DEF steps (w,h::IsRealPos) (n::IsIntPos) = (STRUCT ~ CAT ~ #:n):\n",
    "  < vdom:h, T:3:h, hdom:w, T:2:(-:w) >;\n",
    "\n",
    "DEF hbasament = hstep*nsteps;\n",
    "DEF stair = (MKPOL ~ UKPOL):(steps:<wstep,hstep>:nsteps  \n",
    "              RIGHT (S:2:-1 ~ @2 ~ CUBOID):<PI/24,wsteps,hbasament>);\n",
    "DEF ramp  = cylMap:(T:2:r4:stair);\n",
    "DEF stairs = (STRUCT ~ ##:12):<ramp, R:<1,2>:(PI/6)>;\n"
   ]
  },
  {
   "cell_type": "code",
   "execution_count": 4,
   "metadata": {
    "collapsed": true
   },
   "outputs": [],
   "source": [
    "def vdom(h):\n",
    "    return PROD([COMP([EMBED(1),INTERVALS(PI*3/24)])(3),QUOTE([h])])\n",
    "\n",
    "def hdom(w):\n",
    "    return COMP([S(2)(-1), EMBED(1)])(PROD([INTERVALS(PI*3/24)(3), QUOTE([w])]))\n",
    "\n",
    "def steps(w, h):\n",
    "    def steps1(n):\n",
    "        return COMP([STRUCT, CAT, N(n)])([vdom(h), T(3)(h), hdom(w), T(2)(-w)])\n",
    "    return steps1\n",
    "\n",
    "hbasement = hstep * nsteps\n",
    "\n",
    "stair = RIGHT([COMP([MKPOL, UKPOL])(steps(wstep, hstep)(nsteps)),COMP([S(2)(-1), SKEL_2, CUBOID])([PI/24, wsteps, hbasament])])\n",
    "\n",
    "ramp = cylMap()(T(2)(r4)(stair))\n",
    "stairs = STRUCT(NN(12)([ramp, R([1, 2])(PI/6)]))"
   ]
  },
  {
   "cell_type": "markdown",
   "metadata": {},
   "source": [
    "#### Basamento"
   ]
  },
  {
   "cell_type": "raw",
   "metadata": {},
   "source": [
    "%-------------------------------------------------------------%\n",
    "%---Basamento-------------------------------------------------%\n",
    "%-------------------------------------------------------------%\n",
    "\n",
    "DEF basisSector = (cylMap ~ EMBED:1):\n",
    "    (Intervals:(2*PI/12):4 * Intervals:(r4 - (wstep*(nsteps - 1))):1);\n",
    "DEF basis = (STRUCT ~ ##:12):<basisSector, R:<1,2>:(2*PI/12)>;\n",
    "DEF basement = (R:<1,2>:(PI/-48) ~ STRUCT):< stairs, T:3:(hstep*nsteps), basis >;"
   ]
  },
  {
   "cell_type": "code",
   "execution_count": 5,
   "metadata": {},
   "outputs": [],
   "source": [
    "basisSector = COMP([cylMap(),EMBED(1)])(PROD([INTERVALS(2*PI/12)(4),INTERVALS(r4-(wstep*(nsteps-1)))(1)]))\n",
    "\n",
    "basis = COMP([STRUCT,NN(12)])([basisSector,R([1,2])(2*PI/12)])\n",
    "\n",
    "basament = COMP([R([1,2])(PI/-48),STRUCT])([stairs,T(3)(hstep*nsteps),basis])"
   ]
  },
  {
   "cell_type": "code",
   "execution_count": 6,
   "metadata": {},
   "outputs": [
    {
     "data": {
      "text/plain": [
       "<pyplasm.xgepy.Hpc; proxy of <Swig Object of type 'std::shared_ptr< Hpc > *' at 0x000000000760EA50> >"
      ]
     },
     "execution_count": 6,
     "metadata": {},
     "output_type": "execute_result"
    }
   ],
   "source": [
    "VIEW(basament)"
   ]
  },
  {
   "cell_type": "markdown",
   "metadata": {},
   "source": [
    "#### Muro Esterno"
   ]
  },
  {
   "cell_type": "raw",
   "metadata": {},
   "source": [
    "%-------------------------------------------------------------%\n",
    "%---Muro esterno----------------------------------------------%\n",
    "%-------------------------------------------------------------%\n",
    "\n",
    "DEF ExtWall2Da = MKPOL:<<<0,0>,<7,0>,<7,5>,<0,8>,<7,3>,<9,4>,\n",
    "<10.5,1.5>,<10.5,0>,<11,1.5>,<11,3>>,<1..4,<2,8,7,6,5>,<6,7,9,10>>,\n",
    "<<1>,<2>,<3>>> & ((Q ~ #:12):1 * Q:8);\n",
    "DEF ExtWall2Db = MKPOL:<<<0.5,0>,<4,0>,<5,0>,<6,0>,<6,3>,<5.5,3.5>,\n",
    "  <5,3>,<4.5,3.5>,<4,3>,<2,4>,<0,3>,<0,1.5>,<0.5,1.5>>,\n",
    "  <<10,11,12,13>,<1,2,9,10,13>,<2,3,7,8,9>,<3,4,5,6,7>>,<1..4>> \n",
    "&  ((Q ~ #:6):1 * Q:4);\n",
    "DEF ExtWall2D = STRUCT:<ExtWall2Da, T:1:11, ExtWall2Db>;\n",
    "DEF sizxExtWall = SIZE:1:ExtWall2D;\n",
    "\n",
    "DEF ExtWall = R:<2,3>:(PI/2):(ExtWall2D * QUOTE:<1.5>);\n",
    "DEF CurvedExtWall = (cylMap ~ T:2:r3 ~ S:<1,3>:<PI/(4*sizxExtWall),hw4/8>):   ExtWall;\n",
    "DEF DoubleExtWall = STRUCT:<CurvedExtWall, S:1:-1, CurvedExtWall>;\n",
    "DEF FullExtWall = (STRUCT ~ ##:4):<DoubleExtWall, R:<1,2>:(PI/2)>;\n",
    "\n",
    "%\n",
    "STRUCT:<basement, T:3:hbasament, FullExtWall>;\n",
    "%"
   ]
  },
  {
   "cell_type": "code",
   "execution_count": 7,
   "metadata": {},
   "outputs": [],
   "source": [
    "extWall2Da = INTERSECTION([MKPOL([[[0,0],[7,0],[7,5],[0,8],[7,3],[9,4],[10.5,11.5],[10.5,0],[11,1.5],[11,3]],[[1,2,3,4],[2,8,7,6,5],[6,7,9,10]],[[1],[2],[3]]]),PROD([COMP([QUOTE,N(12)])(1),QUOTE([8])])])\n",
    "\n",
    "extWall2Db = INTERSECTION([MKPOL([[[0.5,0],[4,0],[5,0],[6,0],[6,3],[5.5,3.5],[5,3],[4.5,3.5],[4,3],[2,4],[0,3],[0,1.5],[0.5,1.5]],[[10,11,12,13],[1,2,9,10,13],[2,3,7,8,9],[3,4,5,6,7]],[1,2,3,4]]),PROD([COMP([QUOTE,N(6)])(1),QUOTE([4])])])\n",
    "\n",
    "extWall2D = STRUCT([extWall2Da,T(1)(11),extWall2Db])\n",
    "\n",
    "sizxExtWall = SIZE(1)(extWall2D)\n",
    "\n",
    "extWall = R([2,3])(PI/2)(PROD([extWall2D,QUOTE([1.5])]))\n",
    "\n",
    "curvedExtWall = COMP([cylMap(),T(2)(r3),S([1,3])([PI/(4*sizxExtWall),hw4/8])])(extWall)\n",
    "\n",
    "doubleExtWall = STRUCT([curvedExtWall,S(1)(-1),curvedExtWall])\n",
    "\n",
    "fullExtWall = COMP([STRUCT,NN(4)])([doubleExtWall,R([1,2])(PI/2)])\n",
    "\n"
   ]
  },
  {
   "cell_type": "code",
   "execution_count": 8,
   "metadata": {},
   "outputs": [
    {
     "data": {
      "text/plain": [
       "<pyplasm.xgepy.Hpc; proxy of <Swig Object of type 'std::shared_ptr< Hpc > *' at 0x000000000CFBF060> >"
      ]
     },
     "execution_count": 8,
     "metadata": {},
     "output_type": "execute_result"
    }
   ],
   "source": [
    "VIEW(STRUCT([basament,T(3)(hbasement),fullExtWall]))"
   ]
  },
  {
   "cell_type": "markdown",
   "metadata": {},
   "source": [
    "#### Colonne Intermedie"
   ]
  },
  {
   "cell_type": "raw",
   "metadata": {},
   "source": [
    "%-------------------------------------------------------------%\n",
    "%---Colonne intermedie----------------------------------------%\n",
    "%-------------------------------------------------------------%\n",
    "\n",
    "DEF Column (w,h::IsRealPos) = basis TOP trunk TOP capitel\n",
    "WHERE\n",
    "  basis = CUBOID:<w,w,2*w/3>,\n",
    "  trunk = CYLINDER:<w/2*0.85, h - w>:8,\n",
    "  capitel = CUBOID:<w,w,w/3>\n",
    "END;\n",
    "DEF arcAngle = 2*PI/50.4;\n",
    "DEF wallAngle = -3.2*arcAngle/4;\n",
    "DEF RotCross = 3.2*arcAngle/4 + 2.5*arcAngle;\n",
    "\n",
    "DEF MyColumn = (MKPOL ~ UKPOL ~ T:2:((r2 - 0.75)) ~ Column):<1.5,hCol>;\n",
    "DEF The4cols = (R:<1,2>:(arcAngle*0.4/3.2) ~ MKPOL ~ UKPOL ~ \n",
    "  STRUCT ~ ##:4):< R:<1,2>:(-:arcAngle), MyColumn >;\n",
    "DEF The5cols = (R:<1,2>:(arcAngle*0.4/3.2) ~ MKPOL ~ UKPOL ~ \n",
    "  STRUCT ~ ##:5):< R:<1,2>:(-:arcAngle), MyColumn >;\n",
    "DEF TheBotWal = (cylMap ~ MKPOL ~ UKPOL ~ T:2:(r2 - 0.75) ~ CUBOID):\n",
    "  < 3.2*arcAngle/4, 1.5, hCol >;\n",
    "DEF TheSecCols = STRUCT:< R:<1,2>:RotCross,\n",
    "  TheBotWal, R:<1,2>:wallAngle, \n",
    "  The4cols, R:<1,2>:(-5*arcAngle), \n",
    "  TheBotWal, R:<1,2>:wallAngle, \n",
    "  The5cols >;\n",
    "DEF TheMedColumns = (STRUCT ~ ##:4):<TheSecCols, R:<1,2>:(PI/-2)>;\n",
    "DEF hCol = 12 ;\n",
    "\n",
    "%\n",
    "STRUCT:<basement, T:3:hbasament, FullExtWall, TheMedColumns >;\n",
    "%"
   ]
  },
  {
   "cell_type": "code",
   "execution_count": 104,
   "metadata": {},
   "outputs": [],
   "source": [
    "def column(args):\n",
    "    w,h = args\n",
    "    basis = CUBOID([w,w,2*w/3])\n",
    "    trunk = CYLINDER([w/2*0.85,h-w])(8)\n",
    "    capitel = CUBOID([w,w,w/3])\n",
    "    return TOP([basis,TOP([trunk,capitel])])\n",
    "\n",
    "arcAngle = 2*PI/50.4\n",
    "\n",
    "wallAngle = -3.2*arcAngle/4\n",
    "\n",
    "rotCross = 3.2*arcAngle/4 + 2.5*arcAngle\n",
    "\n",
    "hCol = 12\n",
    "\n",
    "myColumn = COMP([MKPOL,UKPOL,T(2)((r2-0.75)),column])([1.5,hCol])\n",
    "\n",
    "the4Cols = COMP([R([1,2])(arcAngle*0.4/3.2),MKPOL,UKPOL,STRUCT,NN(4)])([R([1,2])(-arcAngle),myColumn])\n",
    "\n",
    "the5Cols = COMP([R([1,2])(arcAngle*0.4/3.2),MKPOL,UKPOL,STRUCT,NN(5)])([R([1,2])(-arcAngle),myColumn])\n",
    "\n",
    "theBotWal = COMP([cylMap(),MKPOL,UKPOL,T(2)(r2-0.75),CUBOID])([3.2*arcAngle/4,1.5,hCol])\n",
    "\n",
    "theSecCols = STRUCT([R([1,2])(rotCross),theBotWal,R([1,2])(wallAngle),the4Cols,R([1,2])(-5*arcAngle),theBotWal,R([1,2])(wallAngle),the5Cols])\n",
    "\n",
    "theMedColumns = COMP([STRUCT,NN(4)])([theSecCols,R([1,2])(PI/-2)])"
   ]
  },
  {
   "cell_type": "code",
   "execution_count": 132,
   "metadata": {},
   "outputs": [
    {
     "data": {
      "text/plain": [
       "<pyplasm.xgepy.Hpc; proxy of <Swig Object of type 'std::shared_ptr< Hpc > *' at 0x000000000D3FCA50> >"
      ]
     },
     "execution_count": 132,
     "metadata": {},
     "output_type": "execute_result"
    }
   ],
   "source": [
    "VIEW(STRUCT([basament,T(3)(hbasement),fullExtWall,theMedColumns]))"
   ]
  },
  {
   "cell_type": "markdown",
   "metadata": {},
   "source": [
    "#### Archi sulle colonne"
   ]
  },
  {
   "cell_type": "raw",
   "metadata": {},
   "source": [
    "%-------------------------------------------------------------%\n",
    "%---Archi sulle colonne---------------------------------------%\n",
    "%-------------------------------------------------------------%\n",
    "\n",
    "DEF bottomArc (d::IsRealPos) = Bezier:S1:<<0,0>,<0,2*d/3>,<d,2*d/3>,<d,0>>;\n",
    "DEF topArc (d::IsRealPos) = Bezier:S1:<<0,2*d/3>,<d,2*d/3>>;\n",
    "DEF arc2D  (d::IsRealPos) = Bezier:S2:<bottomArc:d,topArc:d>;\n",
    "DEF arc3D  (d::IsRealPos)(w::IsRealPos) = (T:2:w ~ R:<2,3>:(PI/2)):\n",
    "  ( MAP:(CONS:(arc2D:d)):(Intervals:1:8 * Intervals:1:1) * QUOTE:<w> );\n",
    "DEF Interarc (d1,d2::IsReal)(w::IsRealPos)= CUBOID:<d1,w,2*d2/3>;\n",
    "DEF Xarc (d1,d2::IsRealPos) (w::IsRealPos) = \n",
    "  Interarc:<d1,d2>:w RIGHT arc3D:d2:w RIGHT Interarc:<d1,d2>:w;\n",
    "\n",
    "DEF SizeArc = SIZE:1:TheArc;\n",
    "DEF TheArc = Xarc:<0.4,3.2>:1.5;\n",
    "DEF HeigthArc = SIZE:3:CurvedArc;\n",
    "DEF CurvedArc = (cylMap ~ MKPOL ~ UKPOL ~ T:2:(r2 - 0.75) ~ S:<1,3>:<sx,sz>):TheArc\n",
    "WHERE\n",
    "  sx = (1/SizeArc)*arcAngle,\n",
    "  sz = sx * (r2 - 2)\n",
    "END;\n",
    "DEF The5arcs = (MKPOL ~ UKPOL ~ STRUCT ~ ##:5):< CurvedArc, R:<1,2>:(-:arcAngle) >;\n",
    "DEF The6arcs = (MKPOL ~ UKPOL ~ STRUCT ~ ##:6):< CurvedArc, R:<1,2>:(-:arcAngle) >;\n",
    "DEF TheMidWall = (cylMap ~ MKPOL ~ UKPOL ~ T:2:(r2 - 0.75) ~ CUBOID):\n",
    "  <3.2*arcAngle/4, 1.5, HeigthArc>;\n",
    "DEF TheSector = STRUCT:< R:<1,2>:RotCross,\n",
    "  TheMidWall, R:<1,2>:wallAngle, \n",
    "  The5arcs, R:<1,2>:(-5*arcAngle), \n",
    "  TheMidWall, R:<1,2>:wallAngle, \n",
    "  The6arcs >;\n",
    "DEF TheArcs = (STRUCT ~ ##:4):<TheSector, R:<1,2>:(PI/-2)>;\n",
    "DEF TheArcsCols = STRUCT:< TheMedColumns, T:3:hCol, TheArcs >;\n",
    "\n",
    "%\n",
    "STRUCT:<basement, T:3:hbasament, FullExtWall, TheArcsCols >;\n",
    "%\n"
   ]
  },
  {
   "cell_type": "code",
   "execution_count": 130,
   "metadata": {},
   "outputs": [],
   "source": [
    "def bottomArc(d):\n",
    "    return BEZIER(S1)([[0,0],[0,2*d/3],[d,2*d/3],[d,0]])\n",
    "\n",
    "def topArc(d):\n",
    "    return BEZIER(S1)([[0,2*d/3],[d,2*d/3]])\n",
    "\n",
    "def arc2D(d):\n",
    "    return BEZIER(S2)([bottomArc(d),topArc(d)])\n",
    "\n",
    "def arc3D(d):\n",
    "    def arc3D1(w):\n",
    "        return COMP([T(2)(w),R([2,3])(PI/2)])(PROD([QUOTE([w]),MAP(arc2D(d))(PROD([INTERVALS(1)(8),INTERVALS(1)(1)]))]))\n",
    "    return arc3D1\n",
    "\n",
    "def interarc(d1,d2):\n",
    "    def interarc1(w):\n",
    "        return CUBOID([d1,w,2*d2/3])\n",
    "    return interarc1\n",
    "\n",
    "def xArc(args):\n",
    "    d1,d2 = args\n",
    "    def xArc1(w):\n",
    "        return RIGHT([interarc(d1,d2)(w),RIGHT([arc3D(d2)(w),interarc(d1,d2)(w)])])\n",
    "    return xArc1\n",
    "\n",
    "theArc = xArc([0.4,3.2])(1.5)\n",
    "\n",
    "sizeArc = SIZE(1)(theArc)\n",
    "\n",
    "def curvedArc():\n",
    "    sx = (1/sizeArc)*arcAngle\n",
    "    sz = sx*(r2-2)\n",
    "    return COMP([cylMap(),MKPOL,UKPOL,T(2)(r2-0.75),S([1,3])([sx,sz])])(theArc)\n",
    "\n",
    "heightArc = SIZE(3)(curvedArc())\n",
    "\n",
    "the5arcs = COMP([MKPOL,UKPOL,STRUCT,NN(5)])([curvedArc(),R([1,2])(-arcAngle)])\n",
    "\n",
    "the6arcs = COMP([MKPOL,UKPOL,STRUCT,NN(6)])([curvedArc(),R([1,2])(-arcAngle)])\n",
    "\n",
    "theMidWall = COMP([cylMap(),MKPOL,UKPOL,T(2)(r2-0.75),CUBOID])([3.2*arcAngle/4,1.5,heightArc])\n",
    "\n",
    "theSector = STRUCT([R([1,2])(rotCross),theMidWall,R([1,2])(wallAngle),the5arcs,R([1,2])(-5*arcAngle),theMidWall,R([1,2])(wallAngle),the6arcs])\n",
    "\n",
    "theArcs = COMP([STRUCT,NN(4)])([theSector,T([1,2])(PI/-2)])\n",
    "\n",
    "theArcsCols = STRUCT([theMedColumns,T(3)(hCol),theArcs])\n"
   ]
  },
  {
   "cell_type": "code",
   "execution_count": 131,
   "metadata": {},
   "outputs": [
    {
     "data": {
      "text/plain": [
       "<pyplasm.xgepy.Hpc; proxy of <Swig Object of type 'std::shared_ptr< Hpc > *' at 0x000000000D0E6AB0> >"
      ]
     },
     "execution_count": 131,
     "metadata": {},
     "output_type": "execute_result"
    }
   ],
   "source": [
    "VIEW(STRUCT([basament,T(3)(hbasement),fullExtWall,theArcsCols]))"
   ]
  },
  {
   "cell_type": "code",
   "execution_count": null,
   "metadata": {
    "collapsed": true
   },
   "outputs": [],
   "source": []
  }
 ],
 "metadata": {
  "kernelspec": {
   "display_name": "Python 2",
   "language": "python",
   "name": "python2"
  },
  "language_info": {
   "codemirror_mode": {
    "name": "ipython",
    "version": 2
   },
   "file_extension": ".py",
   "mimetype": "text/x-python",
   "name": "python",
   "nbconvert_exporter": "python",
   "pygments_lexer": "ipython2",
   "version": "2.7.13"
  }
 },
 "nbformat": 4,
 "nbformat_minor": 2
}
