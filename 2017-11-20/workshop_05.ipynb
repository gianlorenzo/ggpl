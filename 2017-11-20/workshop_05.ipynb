{
 "cells": [
  {
   "cell_type": "markdown",
   "metadata": {},
   "source": [
    "## WORKSHOP_5 (Assegnato il 20-11-2017)"
   ]
  },
  {
   "cell_type": "markdown",
   "metadata": {},
   "source": [
    "### Realizzazione di Villa Chiericati progettata da Andrea Palladio"
   ]
  },
  {
   "cell_type": "markdown",
   "metadata": {},
   "source": [
    "### Link ai materiali iconografici trovati sul web\n",
    "\n",
    "https://mediateca.palladiomuseum.org/palladio/opera.php?id=47\n",
    "\n",
    "http://www.comune.vicenza.it/uffici/dipserv/cultur/unesco.php/il_sito_unesco/le_componenti_del_sito/villa_chiericati_vancimuglio_di_grumolo_delle_abbadesse_-_vi\n",
    "\n",
    "\n"
   ]
  },
  {
   "cell_type": "markdown",
   "metadata": {},
   "source": [
    "### Planimetria in 2D della villa"
   ]
  },
  {
   "cell_type": "markdown",
   "metadata": {},
   "source": [
    "![villachiericatiplan](villaChiericatiplan.jpg)"
   ]
  },
  {
   "cell_type": "markdown",
   "metadata": {},
   "source": [
    "### Facciata della villa"
   ]
  },
  {
   "cell_type": "markdown",
   "metadata": {},
   "source": [
    "![facciata](facciata.jpg)"
   ]
  },
  {
   "cell_type": "markdown",
   "metadata": {},
   "source": [
    "### Facciata laterale della villa"
   ]
  },
  {
   "cell_type": "markdown",
   "metadata": {},
   "source": [
    "![laterale](laterale.jpg)"
   ]
  },
  {
   "cell_type": "markdown",
   "metadata": {},
   "source": [
    "### Realizzazione della planimetria 2D della villa con AutoCad"
   ]
  },
  {
   "cell_type": "markdown",
   "metadata": {},
   "source": [
    "![cadPlan](cadPlan.jpg)"
   ]
  },
  {
   "cell_type": "markdown",
   "metadata": {},
   "source": [
    "### Creazione del modello larlib (V,EV) partendo dal file villachiericati.lines generato a partire dal file villechiericati.svg"
   ]
  },
  {
   "cell_type": "code",
   "execution_count": 1,
   "metadata": {},
   "outputs": [
    {
     "name": "stdout",
     "output_type": "stream",
     "text": [
      "Evaluating fenvs.py..\n",
      "...fenvs.py imported in 0.20908376148 seconds\n"
     ]
    }
   ],
   "source": [
    "### Importazione delle libreria larlib, math e csv\n",
    "from larlib import *\n",
    "import math\n",
    "import csv\n",
    "with open(\"villachiericati.lines\", \"rb\") as file:\n",
    "    file_reader = csv.reader(file, delimiter=\",\")\n",
    "    chiavi = {} ### diizionario delle chiavi\n",
    "    nodi = [] ### array con i vertici\n",
    "    archi= [] ### array con gli archi, ovvero gli spigoli\n",
    "    i = 0 ### inizializzo un contatore\n",
    "    \n",
    "    ### scorro le righe dell'intero file. Essendo ogni riga composta da 4 elementi, rispettivamente (x1,y1) e (x2,y2) le quali\n",
    "    ### rappresentano le coordinate dei due vertici di una singola linea, utilizzo la funzione floor della libreria math per\n",
    "    ### arrotondare la cifra decimale all'intero più vicino. Successivamente utilizzo una condizione: se le prime due coordinate\n",
    "    ### non sono presenti nelle chiavi del dizionario, gli assegno un indice e le aggiungo alla lista dei nodi. Ripeto lo \n",
    "    ### stesso procedimento anche per le altre due coordinati. Infine aggiungo l'indice delle coppie di vertici alla lista degli\n",
    "    ### archi.\n",
    "    for righe in file_reader:\n",
    "        riga0 = math.floor(float(righe[0])*100)/100\n",
    "        riga1 = math.floor(float(righe[1])*100)/100\n",
    "        riga2 = math.floor(float(righe[2])*100)/100\n",
    "        riga3 = math.floor(float(righe[3])*100)/100\n",
    "        \n",
    "        if not(riga0,riga1) in chiavi.keys():\n",
    "            chiavi[(riga0,riga1)] = i\n",
    "            nodi.append((riga0,riga1))\n",
    "            i = i+1\n",
    "            \n",
    "        if not(riga2,riga3) in chiavi.keys():\n",
    "            chiavi[(riga2,riga3)] = i\n",
    "            nodi.append((riga2,riga3))\n",
    "            i = i+1\n",
    "        archi.append((chiavi[(riga0,riga1)],(chiavi[(riga2,riga3)])))\n",
    "        \n",
    "        VIEW(STRUCT(MKPOLS([nodi,archi])))\n"
   ]
  },
  {
   "cell_type": "markdown",
   "metadata": {},
   "source": [
    "![larlibPlan](larlibPlan.jpg)"
   ]
  },
  {
   "cell_type": "code",
   "execution_count": null,
   "metadata": {
    "collapsed": true
   },
   "outputs": [],
   "source": []
  }
 ],
 "metadata": {
  "kernelspec": {
   "display_name": "Python 2",
   "language": "python",
   "name": "python2"
  },
  "language_info": {
   "codemirror_mode": {
    "name": "ipython",
    "version": 2
   },
   "file_extension": ".py",
   "mimetype": "text/x-python",
   "name": "python",
   "nbconvert_exporter": "python",
   "pygments_lexer": "ipython2",
   "version": "2.7.13"
  }
 },
 "nbformat": 4,
 "nbformat_minor": 2
}
