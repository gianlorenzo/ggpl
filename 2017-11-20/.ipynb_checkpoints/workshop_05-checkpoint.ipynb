{
 "cells": [
  {
   "cell_type": "markdown",
   "metadata": {},
   "source": [
    "### Realizzazione di Villa Chiericati progettata da Andrea Palladio"
   ]
  },
  {
   "cell_type": "markdown",
   "metadata": {},
   "source": [
    "#### Link ai materiali iconografici trovati sul web\n",
    "\n",
    "https://mediateca.palladiomuseum.org/palladio/opera.php?id=47\n",
    "\n",
    "http://www.comune.vicenza.it/uffici/dipserv/cultur/unesco.php/il_sito_unesco/le_componenti_del_sito/villa_chiericati_vancimuglio_di_grumolo_delle_abbadesse_-_vi\n",
    "\n",
    "\n"
   ]
  },
  {
   "cell_type": "code",
   "execution_count": null,
   "metadata": {
    "collapsed": true
   },
   "outputs": [],
   "source": []
  }
 ],
 "metadata": {
  "kernelspec": {
   "display_name": "Python 2",
   "language": "python",
   "name": "python2"
  },
  "language_info": {
   "codemirror_mode": {
    "name": "ipython",
    "version": 2
   },
   "file_extension": ".py",
   "mimetype": "text/x-python",
   "name": "python",
   "nbconvert_exporter": "python",
   "pygments_lexer": "ipython2",
   "version": "2.7.13"
  }
 },
 "nbformat": 4,
 "nbformat_minor": 2
}
