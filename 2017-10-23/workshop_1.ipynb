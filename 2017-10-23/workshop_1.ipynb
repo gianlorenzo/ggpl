{
 "cells": [
  {
   "cell_type": "markdown",
   "metadata": {},
   "source": [
    "# Workshop 1 (Assegnato il 23-10-2017)"
   ]
  },
  {
   "cell_type": "markdown",
   "metadata": {},
   "source": [
    "## Convertire da Plasm in PyPlasm alcuni script tratti dai capitoli 1 e 2 dal libro  \n",
    "## Geometric Programming for Computer-Aided Design"
   ]
  },
  {
   "cell_type": "markdown",
   "metadata": {},
   "source": [
    "#### Conversione dello script 1.5.1. della pagina 25 del capitolo 1"
   ]
  },
  {
   "cell_type": "markdown",
   "metadata": {},
   "source": [
    "##### Plasm Code"
   ]
  },
  {
   "cell_type": "raw",
   "metadata": {},
   "source": [
    "(plasm \"\n",
    "    LOAD:\u0001\n",
    "    script1.psm\u0001 ;\n",
    "    DEF fun1 (a::Isreal) = (SIN * COS):a ;\n",
    "    fun1:(PI/6) + fun1:(PI/4)\n",
    "\")"
   ]
  },
  {
   "cell_type": "markdown",
   "metadata": {},
   "source": [
    "##### Pyplasm Code"
   ]
  },
  {
   "cell_type": "code",
   "execution_count": 22,
   "metadata": {
    "collapsed": true
   },
   "outputs": [],
   "source": [
    "### Questa funzione ritorna il prodotto tra il seno ed il coseno di un angolo passato in input\n",
    "\n",
    "def fun1(a):\n",
    "    israel = cos(a)*sin(a)\n",
    "    return israel;\n",
    "    "
   ]
  },
  {
   "cell_type": "code",
   "execution_count": 1,
   "metadata": {},
   "outputs": [
    {
     "name": "stdout",
     "output_type": "stream",
     "text": [
      "Evaluating fenvs.py..\n",
      "...fenvs.py imported in 0.00552686369896 seconds\n"
     ]
    }
   ],
   "source": [
    "from pyplasm import *"
   ]
  },
  {
   "cell_type": "code",
   "execution_count": 14,
   "metadata": {},
   "outputs": [
    {
     "name": "stdout",
     "output_type": "stream",
     "text": [
      "0.933012701892\n"
     ]
    }
   ],
   "source": [
    "### Visualizzo il risultato della funzione per testarne il corretto funzionamento\n",
    "print (fun1(PI/6)+fun1(PI/4))"
   ]
  },
  {
   "cell_type": "markdown",
   "metadata": {},
   "source": [
    "#### Conversione dello script 1.5.1. della pagina 25 del capitolo 1\n"
   ]
  },
  {
   "cell_type": "markdown",
   "metadata": {},
   "source": [
    "##### Plasm Code"
   ]
  },
  {
   "cell_type": "raw",
   "metadata": {},
   "source": [
    "DEF L_shape1 = MKPOL:< verts, cells, pols >\n",
    "WHERE\n",
    "    verts = <<0,0>,<2,0>,<2,1>,<1,1>,<1,2>,<0,2>>,\n",
    "    cells = <<1,2,3,4>,<4,5,6,1>>,\n",
    "    pols = <<1>,<2>>\n",
    "END;\n",
    "\n",
    "DEF L_shape2 = MKPOL:< verts, cells, pols >\n",
    "WHERE\n",
    "    verts = <<0,0>,<2,0>,<2,1>,<1,1>,<1,2>,<0,2>>,\n",
    "    cells = <<1,2,3,4>,<4,5,6,1>>,\n",
    "    pols = <<1,2>>\n",
    "END;"
   ]
  },
  {
   "cell_type": "markdown",
   "metadata": {},
   "source": [
    "##### Pyplasm Code"
   ]
  },
  {
   "cell_type": "code",
   "execution_count": 2,
   "metadata": {
    "collapsed": true
   },
   "outputs": [],
   "source": [
    "### Ritorna un poliedro costituito da 6 vertici, i quali sono indicizzati mediante cells e combinati convessamente tramite pols\n",
    "\n",
    "def l_shape1():\n",
    "    verts = [[0,0],[2,0],[2,1],[1,1],[1,2],[0,2]]\n",
    "    cells = [[1,2,3,4],[4,5,6,1]]\n",
    "    pols = [[1],[2]]\n",
    "    return MKPOL([verts,cells,pols]);"
   ]
  },
  {
   "cell_type": "code",
   "execution_count": 3,
   "metadata": {
    "collapsed": true
   },
   "outputs": [],
   "source": [
    "def l_shape2():\n",
    "    verts = [[0,0],[2,0],[2,1],[1,1],[1,2],[0,2]]\n",
    "    cells = [[1,2,3,4],[4,5,6,1]]\n",
    "    pols = [[1,2]]\n",
    "    return MKPOL([verts,cells,pols]);"
   ]
  },
  {
   "cell_type": "code",
   "execution_count": 4,
   "metadata": {},
   "outputs": [
    {
     "data": {
      "text/plain": [
       "<pyplasm.xgepy.Hpc; proxy of <Swig Object of type 'std::shared_ptr< Hpc > *' at 0x000000000BB8EDB0> >"
      ]
     },
     "execution_count": 4,
     "metadata": {},
     "output_type": "execute_result"
    }
   ],
   "source": [
    "### Visualizzo il risultato\n",
    "VIEW(l_shape1())\n"
   ]
  },
  {
   "cell_type": "markdown",
   "metadata": {},
   "source": [
    "![l_shape1](l_shape1.jpg)"
   ]
  },
  {
   "cell_type": "code",
   "execution_count": 5,
   "metadata": {},
   "outputs": [
    {
     "data": {
      "text/plain": [
       "<pyplasm.xgepy.Hpc; proxy of <Swig Object of type 'std::shared_ptr< Hpc > *' at 0x000000000BB9D6F0> >"
      ]
     },
     "execution_count": 5,
     "metadata": {},
     "output_type": "execute_result"
    }
   ],
   "source": [
    "VIEW(l_shape2())\n"
   ]
  },
  {
   "cell_type": "markdown",
   "metadata": {},
   "source": [
    "![l_shape2](l_shape2.jpg)\n"
   ]
  },
  {
   "cell_type": "markdown",
   "metadata": {},
   "source": [
    "#### Conversione dello script 1.5.1. della pagina 25 del capitolo 1"
   ]
  },
  {
   "cell_type": "markdown",
   "metadata": {},
   "source": [
    "##### Plasm Code"
   ]
  },
  {
   "cell_type": "raw",
   "metadata": {},
   "source": [
    "DEF Leg = CUBOID:< 0.1,0.1,0.7 >;\n",
    "\n",
    "DEF Plane = CUBOID:< 1, 1, 0.2>;\n",
    "\n",
    "DEF Table = STRUCT:<\n",
    "    Leg, T:1:0.9, Leg, T:2:0.9, Leg, T:1:-0.9, Leg,\n",
    "    T:<2,3>:<-0.9,0.7>, Plane >;\n",
    "\n",
    "DEF Table1 = STRUCT:<\n",
    "    Leg, T:1:0.9:Leg, T:<1,2>:<0.9,0.9>:Leg, T:2:0.9:Leg,\n",
    "    T:3:0.7:Plane >;"
   ]
  },
  {
   "cell_type": "markdown",
   "metadata": {},
   "source": [
    "##### Pyplasm Code"
   ]
  },
  {
   "cell_type": "code",
   "execution_count": 6,
   "metadata": {
    "collapsed": true
   },
   "outputs": [],
   "source": [
    "### Con la funzione leg() definisco la gamba del tavolo. Con plane() il suo ripiano. Infine con la funzione table() unisco\n",
    "### gambe e ripiano per creare un tavolo. Utilizzo le traslazioni per le gambe per posizionale alle 4 estremità del ripiano.\n",
    "\n",
    "def leg():\n",
    "    return CUBOID([0.1,0.1,0.7]);\n",
    "\n",
    "def plane():\n",
    "    return CUBOID([1,1,0.2]);\n",
    "\n",
    "def table():\n",
    "    return STRUCT([leg(),T(1)(0.9),leg(),T(2)(0.9),leg(),T(1)(-0.9),leg(),T([2,3])([-0.9,0.7]), plane()])\n",
    "\n",
    "def table1():\n",
    "    return STRUCT([leg(),T(1)(0.9)(leg()),T([1,2])([0.9,0.9])(leg()),T(2)(0.9)(leg()),T(3)(0.7)(plane())])\n"
   ]
  },
  {
   "cell_type": "code",
   "execution_count": 7,
   "metadata": {},
   "outputs": [
    {
     "data": {
      "text/plain": [
       "<pyplasm.xgepy.Hpc; proxy of <Swig Object of type 'std::shared_ptr< Hpc > *' at 0x000000000BB9DB70> >"
      ]
     },
     "execution_count": 7,
     "metadata": {},
     "output_type": "execute_result"
    }
   ],
   "source": [
    "VIEW(leg())\n"
   ]
  },
  {
   "cell_type": "markdown",
   "metadata": {},
   "source": [
    "![leg](leg.jpg)"
   ]
  },
  {
   "cell_type": "code",
   "execution_count": 8,
   "metadata": {},
   "outputs": [
    {
     "data": {
      "text/plain": [
       "<pyplasm.xgepy.Hpc; proxy of <Swig Object of type 'std::shared_ptr< Hpc > *' at 0x000000000BB9DBA0> >"
      ]
     },
     "execution_count": 8,
     "metadata": {},
     "output_type": "execute_result"
    }
   ],
   "source": [
    "VIEW(plane())\n"
   ]
  },
  {
   "cell_type": "markdown",
   "metadata": {},
   "source": [
    "![plane](plane.jpg)\n"
   ]
  },
  {
   "cell_type": "code",
   "execution_count": 9,
   "metadata": {},
   "outputs": [
    {
     "data": {
      "text/plain": [
       "<pyplasm.xgepy.Hpc; proxy of <Swig Object of type 'std::shared_ptr< Hpc > *' at 0x000000000BB9D8A0> >"
      ]
     },
     "execution_count": 9,
     "metadata": {},
     "output_type": "execute_result"
    }
   ],
   "source": [
    "VIEW(table())"
   ]
  },
  {
   "cell_type": "markdown",
   "metadata": {},
   "source": [
    "![table](table.jpg)"
   ]
  },
  {
   "cell_type": "code",
   "execution_count": 10,
   "metadata": {},
   "outputs": [
    {
     "data": {
      "text/plain": [
       "<pyplasm.xgepy.Hpc; proxy of <Swig Object of type 'std::shared_ptr< Hpc > *' at 0x000000000BB9DD80> >"
      ]
     },
     "execution_count": 10,
     "metadata": {},
     "output_type": "execute_result"
    }
   ],
   "source": [
    "VIEW(table1())"
   ]
  },
  {
   "cell_type": "markdown",
   "metadata": {},
   "source": [
    "![plane1](plane1.jpg)"
   ]
  },
  {
   "cell_type": "markdown",
   "metadata": {},
   "source": [
    "\n",
    "#### Conversione dello script 1.5.6. della pagina 31 del capitolo 1"
   ]
  },
  {
   "cell_type": "markdown",
   "metadata": {},
   "source": [
    "##### Plasm Code\n"
   ]
  },
  {
   "cell_type": "raw",
   "metadata": {},
   "source": [
    "DEF facade (n,m::IsIntPos) = STRUCT:<\n",
    "    Q:xRithm * Q:yRithm,\n",
    "    Q:xVoid * Q:yRithm,\n",
    "    Q:xRithm * Q:yVoid ,\n",
    "    @1:(Q:xVoid * Q:yVoid) >\n",
    "WHERE\n",
    "    xRithm = ##:n:<5,-2,-5,-2> AR 5,\n",
    "    yRithm = ##:m:<7,-5,-2> AR 7,\n",
    "    xVoid = AA:-:xRithm,\n",
    "    yVoid = AA:-:yRithm\n",
    "END;"
   ]
  },
  {
   "cell_type": "markdown",
   "metadata": {
    "collapsed": true
   },
   "source": [
    "##### PyPlasm Code"
   ]
  },
  {
   "cell_type": "code",
   "execution_count": 12,
   "metadata": {
    "collapsed": true
   },
   "outputs": [],
   "source": [
    "### Facciata di un palazzo\n",
    "def facade(n,m):\n",
    "    xRithm = n*(([5,-2,-5,-2]))\n",
    "    xRithm.append(5)\n",
    "    yRithm = m*(([7,-5,-2]))\n",
    "    yRithm.append(7)\n",
    "    xVoid = [-x for x in xRithm]\n",
    "    yVoid = [-y for y in yRithm]\n",
    "    \n",
    "    return STRUCT([PROD([QUOTE(xRithm),QUOTE(yRithm)]),PROD([QUOTE(xVoid),QUOTE(yRithm)]),PROD([QUOTE(xRithm),QUOTE(yRithm)]),SKEL_1(PROD([QUOTE(xVoid),QUOTE(yVoid)]))]);\n",
    "    "
   ]
  },
  {
   "cell_type": "code",
   "execution_count": 13,
   "metadata": {},
   "outputs": [
    {
     "data": {
      "text/plain": [
       "<pyplasm.xgepy.Hpc; proxy of <Swig Object of type 'std::shared_ptr< Hpc > *' at 0x000000000BBE3B70> >"
      ]
     },
     "execution_count": 13,
     "metadata": {},
     "output_type": "execute_result"
    }
   ],
   "source": [
    "VIEW(facade(4,5))"
   ]
  },
  {
   "cell_type": "markdown",
   "metadata": {},
   "source": [
    "![facade](facade.jpg)"
   ]
  },
  {
   "cell_type": "markdown",
   "metadata": {},
   "source": [
    "#### Conversione dello script 1.5.7. della pagina 32 del capitolo 1"
   ]
  },
  {
   "cell_type": "markdown",
   "metadata": {},
   "source": [
    "#### Plasm Code"
   ]
  },
  {
   "cell_type": "raw",
   "metadata": {},
   "source": [
    "DEF plan = STRUCT:< Q:<4,-2,4> * Q:<4,4>, T:<1,2>:<4,1>, Q:2 * Q:<2,4,2> >;\n",
    "\n",
    "DEF section = MKPOL:<<<0,0>,<10,0>,<10,3>,<5,4.5>,<0,3>>,<1..5>,<<1>>>;\n",
    "\n",
    "DEF Block = @2:(plan * Q:<3,3,3>)\n"
   ]
  },
  {
   "cell_type": "markdown",
   "metadata": {},
   "source": [
    "#### Pyplasm Code\n"
   ]
  },
  {
   "cell_type": "code",
   "execution_count": 14,
   "metadata": {
    "collapsed": true
   },
   "outputs": [],
   "source": [
    "def plan():\n",
    "    return STRUCT([PROD([QUOTE([4,-2,4]),QUOTE([4,4])]),T([1,2])([4,1]),PROD([QUOTE([2]),QUOTE([2,4,2])])]);\n",
    "\n",
    "def section():\n",
    "    return MKPOL([[[0,0],[10,0],[10,3],[5,4.5],[0,3]],[[1,2,3,4,5]],[[1]]]);\n",
    "\n",
    "def block():\n",
    "    return (SKEL_2(PROD([plan(),QUOTE([3,3,3])])));\n"
   ]
  },
  {
   "cell_type": "code",
   "execution_count": 15,
   "metadata": {},
   "outputs": [
    {
     "data": {
      "text/plain": [
       "<pyplasm.xgepy.Hpc; proxy of <Swig Object of type 'std::shared_ptr< Hpc > *' at 0x000000000BBE3960> >"
      ]
     },
     "execution_count": 15,
     "metadata": {},
     "output_type": "execute_result"
    }
   ],
   "source": [
    "VIEW(plan())"
   ]
  },
  {
   "cell_type": "markdown",
   "metadata": {},
   "source": [
    "![plane](plan.jpg)"
   ]
  },
  {
   "cell_type": "code",
   "execution_count": 16,
   "metadata": {},
   "outputs": [
    {
     "data": {
      "text/plain": [
       "<pyplasm.xgepy.Hpc; proxy of <Swig Object of type 'std::shared_ptr< Hpc > *' at 0x000000000BBE3930> >"
      ]
     },
     "execution_count": 16,
     "metadata": {},
     "output_type": "execute_result"
    }
   ],
   "source": [
    "VIEW(section())"
   ]
  },
  {
   "cell_type": "markdown",
   "metadata": {
    "collapsed": true
   },
   "source": [
    "![section](section.jpg)"
   ]
  },
  {
   "cell_type": "code",
   "execution_count": 17,
   "metadata": {},
   "outputs": [
    {
     "data": {
      "text/plain": [
       "<pyplasm.xgepy.Hpc; proxy of <Swig Object of type 'std::shared_ptr< Hpc > *' at 0x000000000BBE3AE0> >"
      ]
     },
     "execution_count": 17,
     "metadata": {},
     "output_type": "execute_result"
    }
   ],
   "source": [
    "VIEW(block())"
   ]
  },
  {
   "cell_type": "markdown",
   "metadata": {},
   "source": [
    "![blocco](blocco.jpg)"
   ]
  },
  {
   "cell_type": "markdown",
   "metadata": {},
   "source": [
    "#### Conversione della prima parte dello script 1.5.9. della pagina 34 del capitolo 1"
   ]
  },
  {
   "cell_type": "markdown",
   "metadata": {},
   "source": [
    "##### Plasm Code"
   ]
  },
  {
   "cell_type": "raw",
   "metadata": {},
   "source": [
    "DEF a = T:<1,2>:<-0.5,-0.5>:(CUBOID:<1,1,1>);\n",
    "DEF b = R:<1,2>:(PI/4):a;\n",
    "\n",
    "STRUCT:< a + b, T:1:2, a & b, T:1:2, a ∧ b, T:1:2, a - b >;"
   ]
  },
  {
   "cell_type": "markdown",
   "metadata": {},
   "source": [
    "##### Pyplasm Code"
   ]
  },
  {
   "cell_type": "code",
   "execution_count": 20,
   "metadata": {
    "collapsed": true
   },
   "outputs": [],
   "source": [
    "### Genero una serie di figure che in ordine sono il risultato di: unione, intersezione, XOR e differenza della figura generata\n",
    "### dalla funzione a() e dalla sua rotazione generata dalla funzione b()\n",
    "\n",
    "def a():\n",
    "    return (T([1,2])([-0.5,-0.5])(CUBOID([1,1,1,])));\n",
    "\n",
    "def b():\n",
    "    return (R([1,2])(PI/4)(a()));\n",
    "\n",
    "\n",
    "def comp():\n",
    "    arg1 = UNION([a(),b()])\n",
    "    arg2 = T(1)(2)\n",
    "    arg3 = INTERSECTION([a(),b()])\n",
    "    arg4 = T(1)(2)\n",
    "    arg5 = XOR([a(),b()])\n",
    "    arg6 = T(1)(2)\n",
    "    arg7 = DIFFERENCE([a(),b()])\n",
    "    \n",
    "    return  (STRUCT([arg1, STRUCT([arg2, STRUCT([arg3, STRUCT([arg4, STRUCT([arg5, STRUCT([arg6, arg7])])])])])]));"
   ]
  },
  {
   "cell_type": "code",
   "execution_count": 21,
   "metadata": {},
   "outputs": [
    {
     "data": {
      "text/plain": [
       "<pyplasm.xgepy.Hpc; proxy of <Swig Object of type 'std::shared_ptr< Hpc > *' at 0x000000000BBE3E70> >"
      ]
     },
     "execution_count": 21,
     "metadata": {},
     "output_type": "execute_result"
    }
   ],
   "source": [
    "VIEW(comp())"
   ]
  },
  {
   "cell_type": "markdown",
   "metadata": {},
   "source": [
    "![composizioneTraslazione](composizioneTraslazioni.jpg)"
   ]
  },
  {
   "cell_type": "markdown",
   "metadata": {},
   "source": [
    "#### Conversione dello script 1.5.10 (Table model (2)) della pagina 35 del capitolo 1"
   ]
  },
  {
   "cell_type": "markdown",
   "metadata": {},
   "source": [
    "#### Plasm Code"
   ]
  },
  {
   "cell_type": "raw",
   "metadata": {},
   "source": [
    "DEF legs = Q:< 0.1,-0.8,0.1 > * Q:< 0.1,-0.8,0.1 > * Q:0.7;\n",
    "DEF plane = Q:1 * Q:1 * Q:0.2;\n",
    "DEF table = Legs TOP Plane;\n",
    "DEF chair = S:<1,2,3>:<0.4,0.4,0.5>:Table;\n",
    "\n",
    "DEF assembly = chair RIGHT table RIGHT chair UP chair DOWN chair\n",
    "VRML:assembly:'out.wrl'\n"
   ]
  },
  {
   "cell_type": "markdown",
   "metadata": {},
   "source": [
    "##### Pyplasm Code"
   ]
  },
  {
   "cell_type": "code",
   "execution_count": 22,
   "metadata": {
    "collapsed": true
   },
   "outputs": [],
   "source": [
    "### Genero un tavolo con 4 sedie ai suoi lati. Le sedie sono traslate in modo fa essere posizionate in corrispondenza dei punti\n",
    "### medi di ogni lato del tavolo\n",
    "\n",
    "def legs():\n",
    "    a = PROD([QUOTE([0.1,-0.8,0.1]),QUOTE([0.1,-0.8,0.1])])\n",
    "    return (PROD([a,QUOTE([0.7])]));\n",
    "\n",
    "def plane():\n",
    "    b = PROD([QUOTE([1]),QUOTE([1])])\n",
    "    return (PROD([b,QUOTE([0.2])]));\n",
    "\n",
    "def table():\n",
    "    return (TOP([legs(),plane()]));\n",
    "\n",
    "def chair():\n",
    "    return(S([1,2,3])([0.4,0.4,0.5])(table()));\n",
    "\n",
    "def assembly1():\n",
    "    ### Effettuo le traslazioni in modo da centrare le sedie nelle coordinate dei punti medi dei quattro lati del tavolo\n",
    "    return (DOWN([UP([RIGHT([T(2)(0.3)(chair()),RIGHT([table(),T(2)(0.3)(chair())])]),T(1)(0.7)(chair())]),T(1)(0.7)(chair())]));\n"
   ]
  },
  {
   "cell_type": "code",
   "execution_count": 23,
   "metadata": {},
   "outputs": [
    {
     "data": {
      "text/plain": [
       "<pyplasm.xgepy.Hpc; proxy of <Swig Object of type 'std::shared_ptr< Hpc > *' at 0x000000000BBE39F0> >"
      ]
     },
     "execution_count": 23,
     "metadata": {},
     "output_type": "execute_result"
    }
   ],
   "source": [
    "VIEW(legs())"
   ]
  },
  {
   "cell_type": "code",
   "execution_count": 24,
   "metadata": {},
   "outputs": [
    {
     "data": {
      "text/plain": [
       "<pyplasm.xgepy.Hpc; proxy of <Swig Object of type 'std::shared_ptr< Hpc > *' at 0x000000000BBE3D80> >"
      ]
     },
     "execution_count": 24,
     "metadata": {},
     "output_type": "execute_result"
    }
   ],
   "source": [
    "VIEW(plane())"
   ]
  },
  {
   "cell_type": "code",
   "execution_count": 69,
   "metadata": {},
   "outputs": [
    {
     "data": {
      "text/plain": [
       "<pyplasm.xgepy.Hpc; proxy of <Swig Object of type 'std::shared_ptr< Hpc > *' at 0x000000000EF04660> >"
      ]
     },
     "execution_count": 69,
     "metadata": {},
     "output_type": "execute_result"
    }
   ],
   "source": [
    "VIEW(table())"
   ]
  },
  {
   "cell_type": "code",
   "execution_count": 25,
   "metadata": {},
   "outputs": [
    {
     "data": {
      "text/plain": [
       "<pyplasm.xgepy.Hpc; proxy of <Swig Object of type 'std::shared_ptr< Hpc > *' at 0x000000000BBE3EA0> >"
      ]
     },
     "execution_count": 25,
     "metadata": {},
     "output_type": "execute_result"
    }
   ],
   "source": [
    "VIEW(chair())"
   ]
  },
  {
   "cell_type": "code",
   "execution_count": 26,
   "metadata": {},
   "outputs": [
    {
     "data": {
      "text/plain": [
       "<pyplasm.xgepy.Hpc; proxy of <Swig Object of type 'std::shared_ptr< Hpc > *' at 0x000000000BBE38A0> >"
      ]
     },
     "execution_count": 26,
     "metadata": {},
     "output_type": "execute_result"
    }
   ],
   "source": [
    "VIEW((assembly1()))"
   ]
  },
  {
   "cell_type": "markdown",
   "metadata": {
    "collapsed": true
   },
   "source": [
    "![tavoloesedie](tavoloesedie.jpg)"
   ]
  },
  {
   "cell_type": "markdown",
   "metadata": {},
   "source": [
    "#### Conversione dello script 1.6.2 della pagina 39 del capitolo 1"
   ]
  },
  {
   "cell_type": "markdown",
   "metadata": {},
   "source": [
    "##### Plasm Code"
   ]
  },
  {
   "cell_type": "raw",
   "metadata": {},
   "source": [
    "DEF c1 = circle:1:<48,1> ACOLOR rgbacolor:<0,1,0,1>;\n",
    "DEF c2 = circle:0.7:<48,1> ACOLOR rgbacolor:<1,1,1,1>;\n",
    "DEF c3 = circle:0.4:<48,1> ACOLOR rgbacolor:<1,0,0,1>;\n",
    "DEF out = STRUCT:< c1, c2, c3 >;"
   ]
  },
  {
   "cell_type": "markdown",
   "metadata": {},
   "source": [
    "##### Pyplasm Code"
   ]
  },
  {
   "cell_type": "code",
   "execution_count": 27,
   "metadata": {
    "collapsed": true
   },
   "outputs": [],
   "source": [
    "### Genero il tricolore italiano. Esso è formato da 3 cerchi concentrici di raggio diverso colorati con lo schema RGB.\n",
    "\n",
    "def c1():\n",
    "    return(COLOR([0,1,0,1])(CIRCLE(1)([48,1])));\n",
    "\n",
    "def c2():\n",
    "    return(COLOR([1,1,1,1])(CIRCLE(0.7)([48,1])));\n",
    "\n",
    "def c3():\n",
    "    return(COLOR([1,0,0,1])(CIRCLE(0.4)([48,1])));\n",
    "\n",
    "def out():\n",
    "    return (STRUCT([c1(),c2(),c3()]));"
   ]
  },
  {
   "cell_type": "code",
   "execution_count": 28,
   "metadata": {},
   "outputs": [
    {
     "data": {
      "text/plain": [
       "<pyplasm.xgepy.Hpc; proxy of <Swig Object of type 'std::shared_ptr< Hpc > *' at 0x000000000BB8EEA0> >"
      ]
     },
     "execution_count": 28,
     "metadata": {},
     "output_type": "execute_result"
    }
   ],
   "source": [
    "VIEW(out())"
   ]
  },
  {
   "cell_type": "markdown",
   "metadata": {},
   "source": [
    "![tricolore](tricolore.jpg)"
   ]
  },
  {
   "cell_type": "markdown",
   "metadata": {},
   "source": [
    "#### Conversione dello script 1.6.3 della pagina 39 del capitolo 1\n"
   ]
  },
  {
   "cell_type": "markdown",
   "metadata": {},
   "source": [
    "##### Plasm Code"
   ]
  },
  {
   "cell_type": "raw",
   "metadata": {},
   "source": [
    "DEF cube = CUBOID:<1,1,1>;\n",
    "\n",
    "DEF cube1 = cube COLOR CYAN;\n",
    "\n",
    "DEF cube2 = cube COLOR MAGENTA;\n",
    "\n",
    "DEF cube3 = cube COLOR YELLOW;\n",
    "\n",
    "DEF basis = (EMBED:1 ∼ CUBOID):<3,3>;\n",
    "\n",
    "DEF assembly = cube1 TOP cube2 TOP cube3;\n",
    "\n",
    "DEF out = basis TOP assembly;\n",
    "\n",
    "DEF out1 = basis TOP ((SWEEP:< 0.2, 0.2, 0.2 > ∼ @1):assembly COLOR RED);"
   ]
  },
  {
   "cell_type": "markdown",
   "metadata": {},
   "source": [
    "##### Pyplasm Code"
   ]
  },
  {
   "cell_type": "code",
   "execution_count": 29,
   "metadata": {
    "collapsed": true
   },
   "outputs": [],
   "source": [
    "### Genero una serie di 3 cubi uniti tra loro posizionati su un pavimento quadrato di dimensioni 3x3\n",
    "\n",
    "def cube():\n",
    "    return(CUBOID([1,1,1]));\n",
    "\n",
    "def cube1():\n",
    "    return(COLOR([0,255,255])(cube())); ### coloro un cubo di colore magenta\n",
    "\n",
    "def cube2():\n",
    "    return(COLOR([255,0,255])(cube()));\n",
    "\n",
    "def cube3():\n",
    "    return(COLOR([255,255,0])(cube()));\n",
    "\n",
    "def basis():\n",
    "    return (COMP([EMBED(1),CUBOID])([3,3]));\n",
    "\n",
    "def assemblyCube():\n",
    "    return (TOP([cube3(),TOP([cube2(),cube1()])]));\n",
    "\n",
    "def out():\n",
    "    return (TOP([basis(),assemblyCube()]));\n",
    "\n",
    "def out1():\n",
    "    return (TOP([basis(),COLOR([255,0,0])(COMP([SWEEP([0.2,0.2,0.2]),SKEL_1])(assemblyCube()))]));\n",
    "\n",
    "### Composizione dei 3 cubi e dello scheletro rosso\n",
    "def comp():\n",
    "    return(STRUCT([out(),out1()]));\n",
    "\n",
    "\n",
    "    "
   ]
  },
  {
   "cell_type": "code",
   "execution_count": 30,
   "metadata": {},
   "outputs": [
    {
     "data": {
      "text/plain": [
       "<pyplasm.xgepy.Hpc; proxy of <Swig Object of type 'std::shared_ptr< Hpc > *' at 0x000000000BBE3C60> >"
      ]
     },
     "execution_count": 30,
     "metadata": {},
     "output_type": "execute_result"
    }
   ],
   "source": [
    "VIEW(out())"
   ]
  },
  {
   "cell_type": "markdown",
   "metadata": {},
   "source": [
    "![assemblyCube](assemblyCube.jpg)"
   ]
  },
  {
   "cell_type": "code",
   "execution_count": 29,
   "metadata": {},
   "outputs": [
    {
     "data": {
      "text/plain": [
       "<pyplasm.xgepy.Hpc; proxy of <Swig Object of type 'std::shared_ptr< Hpc > *' at 0x000000000EFAE3F0> >"
      ]
     },
     "execution_count": 29,
     "metadata": {},
     "output_type": "execute_result"
    }
   ],
   "source": [
    "VIEW(out1())"
   ]
  },
  {
   "cell_type": "code",
   "execution_count": 31,
   "metadata": {},
   "outputs": [
    {
     "data": {
      "text/plain": [
       "<pyplasm.xgepy.Hpc; proxy of <Swig Object of type 'std::shared_ptr< Hpc > *' at 0x000000000BBE3C30> >"
      ]
     },
     "execution_count": 31,
     "metadata": {},
     "output_type": "execute_result"
    }
   ],
   "source": [
    "VIEW(comp())"
   ]
  },
  {
   "cell_type": "markdown",
   "metadata": {},
   "source": [
    "![scheletro](scheletro.jpg)"
   ]
  },
  {
   "cell_type": "code",
   "execution_count": 32,
   "metadata": {},
   "outputs": [
    {
     "data": {
      "text/plain": [
       "<pyplasm.xgepy.Hpc; proxy of <Swig Object of type 'std::shared_ptr< Hpc > *' at 0x000000000BBE3CF0> >"
      ]
     },
     "execution_count": 32,
     "metadata": {},
     "output_type": "execute_result"
    }
   ],
   "source": [
    "VIEW(comp())"
   ]
  },
  {
   "cell_type": "markdown",
   "metadata": {},
   "source": [
    "![composizione](composizione.jpg)"
   ]
  },
  {
   "cell_type": "markdown",
   "metadata": {
    "collapsed": true
   },
   "source": [
    "#### Conversione dello script 1.6.5. della pagina 42 del capitolo 1\n"
   ]
  },
  {
   "cell_type": "markdown",
   "metadata": {},
   "source": [
    "##### Plasm Code"
   ]
  },
  {
   "cell_type": "raw",
   "metadata": {},
   "source": [
    "Xdims ≡ <2,-2,3,-2,4,-2,5,-2,6,-2,7,-2,8,-2,9,-2,10,-2>\n",
    "Ydims ≡ <3,-2,4,-2,5,-2,6,-2,7,-2,8,-2>\n",
    "\n",
    "DEF plan2D = Q:Xdims * Q:Ydims;\n",
    "\n",
    "DEF building1 = Extrude:<10,plan2D, 12>;\n",
    "\n",
    "DEF building2 = Extrude:<25,plan2D, 20>;\n",
    "\n",
    "DEF completeView = STRUCT:< EMBED:1:plan2D, building1, building2 >;\n"
   ]
  },
  {
   "cell_type": "markdown",
   "metadata": {},
   "source": [
    "##### PyPlasm Code"
   ]
  },
  {
   "cell_type": "code",
   "execution_count": 33,
   "metadata": {
    "collapsed": true
   },
   "outputs": [],
   "source": [
    "### paln2D() genera il prodotto cartesiano tra due complessi poliedrici monodimensionali mentre building1() e building2() tra\n",
    "### tre complessi poliedrici monodimensionali\n",
    "\n",
    "def plan2D():\n",
    "    Xdims = [2,-2,3,-2,4,-2,5,-2,6,-2,7,-2,8,-2,9,-2,10,-2]\n",
    "    Ydims = [3,-2,4,-2,5,-2,6,-2,7,-2,8,-2]\n",
    "    \n",
    "    return(PROD([QUOTE(Xdims),QUOTE(Ydims)]));\n",
    "\n",
    "def building1():\n",
    "    return(EXTRUDE([10,plan2D(),12]));\n",
    "\n",
    "\n",
    "def building2():\n",
    "    return(EXTRUDE([25,plan2D(),20]));\n",
    "\n",
    "def completeView():\n",
    "    return (STRUCT([EMBED(1)(plan2D()),building1(),building2()]));\n"
   ]
  },
  {
   "cell_type": "code",
   "execution_count": 34,
   "metadata": {},
   "outputs": [
    {
     "data": {
      "text/plain": [
       "<pyplasm.xgepy.Hpc; proxy of <Swig Object of type 'std::shared_ptr< Hpc > *' at 0x000000000BBE3ED0> >"
      ]
     },
     "execution_count": 34,
     "metadata": {},
     "output_type": "execute_result"
    }
   ],
   "source": [
    "VIEW(plan2D())"
   ]
  },
  {
   "cell_type": "markdown",
   "metadata": {},
   "source": [
    "![plan2d](plan2d.jpg)"
   ]
  },
  {
   "cell_type": "code",
   "execution_count": 35,
   "metadata": {},
   "outputs": [
    {
     "data": {
      "text/plain": [
       "<pyplasm.xgepy.Hpc; proxy of <Swig Object of type 'std::shared_ptr< Hpc > *' at 0x000000000BBE3A80> >"
      ]
     },
     "execution_count": 35,
     "metadata": {},
     "output_type": "execute_result"
    }
   ],
   "source": [
    "VIEW(building1())"
   ]
  },
  {
   "cell_type": "markdown",
   "metadata": {},
   "source": [
    "![building1](building1.jpg)\n"
   ]
  },
  {
   "cell_type": "code",
   "execution_count": 36,
   "metadata": {},
   "outputs": [
    {
     "data": {
      "text/plain": [
       "<pyplasm.xgepy.Hpc; proxy of <Swig Object of type 'std::shared_ptr< Hpc > *' at 0x000000000EFAE210> >"
      ]
     },
     "execution_count": 36,
     "metadata": {},
     "output_type": "execute_result"
    }
   ],
   "source": [
    "VIEW(building2())"
   ]
  },
  {
   "cell_type": "markdown",
   "metadata": {},
   "source": [
    "![building2](building2.jpg)\n"
   ]
  },
  {
   "cell_type": "code",
   "execution_count": 36,
   "metadata": {},
   "outputs": [
    {
     "data": {
      "text/plain": [
       "<pyplasm.xgepy.Hpc; proxy of <Swig Object of type 'std::shared_ptr< Hpc > *' at 0x000000000BBE3BD0> >"
      ]
     },
     "execution_count": 36,
     "metadata": {},
     "output_type": "execute_result"
    }
   ],
   "source": [
    "VIEW(completeView())"
   ]
  },
  {
   "cell_type": "markdown",
   "metadata": {},
   "source": [
    "![completeView](completeView.jpg)"
   ]
  },
  {
   "cell_type": "markdown",
   "metadata": {
    "collapsed": true
   },
   "source": [
    "#### Conversione dello script 1.6.5. della pagina 43 del capitolo 1\n"
   ]
  },
  {
   "cell_type": "markdown",
   "metadata": {},
   "source": [
    "##### Plasm Code"
   ]
  },
  {
   "cell_type": "raw",
   "metadata": {},
   "source": [
    "DEF Manhattan2D = MKPOL:< verts, cells, pols >\n",
    "WHERE\n",
    "    verts = < <0,0>,<3,0>,<5,0>,<7,0>,<8,0>,<9.5,1>,<10,1.5>,<0,3>,<3,3>,<5,3>,\n",
    "    <7,3>,<8,3>,<9.5,3>,<0,4>,<3,4>,<5,4>,<9.5,4>,<12,4>,<9.5,5>,<10,5>,\n",
    "    <12,5>,<0,6>,<3,6>,<5,6>,<0,7>,<3,7>,<5,7>,<9.5,7>,<12,7>,<9.5,8>,\n",
    "    <12,8>,<0,9>,<3,9>,<5,9>,<8,9>,<9,9>,<12,9>,<0,10>,<3,10>,<5,10>,\n",
    "    <8,10>,<9,10>,<9.5,10>,<10,10>,<12,10>,<6,11>,<7,11>,<0,12>,<3,12>,<9,12>,\n",
    "    <9.5,12>,<0,13>,<3,13>,<6,13>,<7,13>,<9,13>,<9.5,13>,<0,14>,<3,14>,<5,14>,\n",
    "    <8,14>,<9,14>,<9.5,14>,<10,14>,<12,14>,<0,15>,<3,15>,<5,15>,<8,15>,<0,16>,\n",
    "    <6,16>,<7,16>,<9,17>,<9.5,17>,<10,17>,<12,17>,<6,18>,<7,18>,<9,18>,<9.5,18>,\n",
    "    <10,18>,<12,18>,<2,19>,<3,19>,<5,19>,<8,19>,<9,19>,<9.5,19>,<10,19>,<12,19>,\n",
    "    <5,20>,<12,20>,<7,22>,<10,22>,<9,6>,<12,6>,<9,15>,<9.5,15>,<10,15>,<12,15> >,\n",
    "\n",
    "    cells = < <1,2,9,8>,<3,4,11,10>,<5,6,13,12>,<14,15,23,22>, <16,17,19,24>,\n",
    "    <7,18,21,20>,<25,26,33,32>,<27,95,28,35,34>,<95,96,29,28>, <30,31,37,36>,\n",
    "    <38,39,49,48>,<40,41,47,46>,<41,61,55,47>,<55,61,60,54>, <54,60,40,46>,\n",
    "    <42,43,51,50>,<44,45,65,64>,<52,53,59,58>,<56,57,63,62>, <66,67,84,83,70>,\n",
    "    <68,69,72,71>,<69,86,78,72>,<78,86,85,77>,<71,77,85,68>, <97,98,74,73>,\n",
    "    <99,100,76,75>,<79,80,88,87>,<81,82,90,89>, <91,92,94,93> >,\n",
    "    \n",
    "    pols = AA:LIST:(1..29)\n",
    "END;"
   ]
  },
  {
   "cell_type": "markdown",
   "metadata": {},
   "source": [
    "##### PyPlasm Code"
   ]
  },
  {
   "cell_type": "code",
   "execution_count": 37,
   "metadata": {
    "collapsed": true
   },
   "outputs": [],
   "source": [
    "### Generazione della piantina 2D di Manhattan.\n",
    "\n",
    "def manhattan2D():\n",
    "    verts = [[0, 0], [3, 0], [5, 0], [7, 0], [8, 0], [9.5, 1], [10, 1.5], [0, 3], [3, 3], [5, 3], [7, 3], [8, 3],\n",
    "             [9.5, 3], [0, 4], [3, 4], [5, 4], [9.5, 4], [12, 4], [9.5, 5], [10, 5], [12, 5], [0, 6], [3, 6], [5, 6],\n",
    "             [0, 7], [3, 7], [5, 7], [9.5, 7], [12, 7], [9.5, 8], [12, 8], [0, 9], [3, 9], [5, 9], [8, 9], [9, 9],\n",
    "             [12, 9], [0, 10], [3, 10], [5, 10], [8, 10], [9, 10], [9.5, 10], [10, 10], [12, 10], [6, 11], [7, 11],\n",
    "             [0, 12], [3, 12], [9, 12], [9.5, 12], [0, 13], [3, 13], [6, 13], [7, 13], [9, 13], [9.5, 13], [0, 14],\n",
    "             [3, 14], [5, 14], [8, 14], [9, 14], [9.5, 14], [10, 14], [12, 14], [0, 15], [3, 15], [5, 15], [8, 15],\n",
    "             [0, 16], [6, 16], [7, 16], [9, 17], [9.5, 17], [10, 17], [12, 17], [6, 18], [7, 18], [9, 18], [9.5, 18],\n",
    "             [10, 18], [12, 18], [2, 19], [3, 19], [5, 19], [8, 19], [9, 19], [9.5, 19], [10, 19], [12, 19], [5, 20],\n",
    "             [12, 20], [7, 22], [10, 22], [9, 6], [12, 6], [9, 15], [9.5, 15], [10, 15], [12, 15]]\n",
    "\n",
    "    cells = [[1, 2, 9, 8], [3, 4, 11, 10], [5, 6, 13, 12], [14, 15, 23, 22], [16, 17, 19, 24], [7, 18, 21, 20],\n",
    "             [25, 26, 33, 32], [27, 95, 28, 35, 34], [95, 96, 29, 28], [30, 31, 37, 36], [38, 39, 49, 48],\n",
    "             [40, 41, 47, 46], [41, 61, 55, 47], [55, 61, 60, 54], [54, 60, 40, 46], [42, 43, 51, 50], [44, 45, 65, 64],\n",
    "             [52, 53, 59, 58], [56, 57, 63, 62], [66, 67, 84, 83, 70], [68, 69, 72, 71], [69, 86, 78, 72],\n",
    "             [78, 86, 85, 77], [71, 77, 85, 68], [97, 98, 74, 73], [99, 100, 76, 75], [79, 80, 88, 87],\n",
    "             [81, 82, 90, 89], [91, 92, 94, 93]]\n",
    "\n",
    "    pols = range(1, 27)\n",
    "\n",
    "    return MKPOL([verts, cells, AA(LIST)(pols)])"
   ]
  },
  {
   "cell_type": "code",
   "execution_count": 38,
   "metadata": {},
   "outputs": [
    {
     "data": {
      "text/plain": [
       "<pyplasm.xgepy.Hpc; proxy of <Swig Object of type 'std::shared_ptr< Hpc > *' at 0x000000000BC71060> >"
      ]
     },
     "execution_count": 38,
     "metadata": {},
     "output_type": "execute_result"
    }
   ],
   "source": [
    "VIEW(manhattan2D())"
   ]
  },
  {
   "cell_type": "markdown",
   "metadata": {},
   "source": [
    "![manhattan2D](manhattan2D.jpg)"
   ]
  },
  {
   "cell_type": "markdown",
   "metadata": {},
   "source": [
    "#### Conversione dello script 1.6.7 della pagina 44 del capitolo 1"
   ]
  },
  {
   "cell_type": "markdown",
   "metadata": {
    "collapsed": true
   },
   "source": [
    "##### Plasm Code"
   ]
  },
  {
   "cell_type": "raw",
   "metadata": {},
   "source": [
    "DEF MultExtrude (p::IsPol) (h::IsSeqOf:IsReal) =\n",
    "    (STRUCT ∼ AA:* ∼ TRANS):< ThePolSeq, AA:Q:h >\n",
    "WHERE\n",
    "    ThePolSeq = (REVERSE ∼ AA:MKPOL ∼ AA:CAT ∼ DISTR):\n",
    "    < DISTL:< MyVerts, MyCells >, <<<1>>> >,\n",
    "    MyVerts = (S1 ∼ UKPOL):P,\n",
    "    MyCells = (AA:LIST ∼ S2 ∼ UKPOL):P\n",
    "END;\n",
    "\n",
    "DEF GrowingH = 1..29;\n"
   ]
  },
  {
   "cell_type": "markdown",
   "metadata": {},
   "source": [
    "##### PyPlasm Code"
   ]
  },
  {
   "cell_type": "code",
   "execution_count": 39,
   "metadata": {
    "collapsed": true
   },
   "outputs": [],
   "source": [
    "### Generazione 3D di Manhattan.\n",
    "\n",
    "\n",
    "def multi_extrude(p, h):\n",
    "    MyCells = COMP([AA(LIST), S2, UKPOL])(p)\n",
    "    MyVerts = COMP([S1, UKPOL])(p)\n",
    "    ThePolSeq = COMP([REVERSE, AA(MKPOL), AA(CAT), DISTR])([DISTL([MyVerts, MyCells]), [[[1]]]])\n",
    "    return COMP([STRUCT, AA(PROD), TRANS])([ThePolSeq, AA(Q)(h)]);\n",
    "\n",
    " \n"
   ]
  },
  {
   "cell_type": "code",
   "execution_count": 40,
   "metadata": {},
   "outputs": [
    {
     "data": {
      "text/plain": [
       "<pyplasm.xgepy.Hpc; proxy of <Swig Object of type 'std::shared_ptr< Hpc > *' at 0x000000000BC8A3F0> >"
      ]
     },
     "execution_count": 40,
     "metadata": {},
     "output_type": "execute_result"
    }
   ],
   "source": [
    "GrowingH = range(1, 29)\n",
    "\n",
    "    \n",
    "VIEW(multi_extrude(manhattan2D(),GrowingH))"
   ]
  },
  {
   "cell_type": "markdown",
   "metadata": {},
   "source": [
    "![manhattan3D](manhattan3D.jpg)"
   ]
  },
  {
   "cell_type": "markdown",
   "metadata": {
    "collapsed": true
   },
   "source": [
    "#### Conversione dello script 2.2.2 della pagina 75 del capitolo 2"
   ]
  },
  {
   "cell_type": "markdown",
   "metadata": {},
   "source": [
    "##### Plasm Code"
   ]
  },
  {
   "cell_type": "raw",
   "metadata": {},
   "source": [
    "STRUCT:<\n",
    "    CYLINDER:<1, 1>:4, T:1:2.5,\n",
    "    CYLINDER:<1, 2>:8, T:1:3.5,\n",
    "    CYLINDER:<1.5, 3>:16, T:1:4.5,\n",
    "    CYLINDER:<1.5, 4>:24\n",
    ">;"
   ]
  },
  {
   "cell_type": "markdown",
   "metadata": {},
   "source": [
    "##### PyPlasm Code"
   ]
  },
  {
   "cell_type": "code",
   "execution_count": 41,
   "metadata": {
    "collapsed": true
   },
   "outputs": [],
   "source": [
    "### Serie di cilindri\n",
    "\n",
    "def multiCilindri():\n",
    "    ### Nell'ultima parentesi () è indicato il numero delle facciate\n",
    "    cilindro_1 = T(1)(5)(CYLINDER([1,1])(4)) ### Cubo \n",
    "    cilindro_2 = T(1)(10)(CYLINDER([1,2])(8)) ### Ottagono\n",
    "    cilindro_3 = T(1)(15)(CYLINDER([1.5,3])(16)) ### Cilindro \n",
    "    cilindro_4 = T(1)(20)(CYLINDER([1.5,4])(24)) ### Cilindro\n",
    "\n",
    "    return (STRUCT([cilindro_1,cilindro_2,cilindro_3,cilindro_4]));\n"
   ]
  },
  {
   "cell_type": "code",
   "execution_count": 42,
   "metadata": {},
   "outputs": [
    {
     "data": {
      "text/plain": [
       "<pyplasm.xgepy.Hpc; proxy of <Swig Object of type 'std::shared_ptr< Hpc > *' at 0x000000000BC7A0C0> >"
      ]
     },
     "execution_count": 42,
     "metadata": {},
     "output_type": "execute_result"
    }
   ],
   "source": [
    "VIEW(multiCilindri())"
   ]
  },
  {
   "cell_type": "markdown",
   "metadata": {},
   "source": [
    "![cilindriMultipli](cilindriMultipli.jpg)"
   ]
  },
  {
   "cell_type": "code",
   "execution_count": null,
   "metadata": {
    "collapsed": true
   },
   "outputs": [],
   "source": []
  }
 ],
 "metadata": {
  "kernelspec": {
   "display_name": "Python 2",
   "language": "python",
   "name": "python2"
  },
  "language_info": {
   "codemirror_mode": {
    "name": "ipython",
    "version": 2
   },
   "file_extension": ".py",
   "mimetype": "text/x-python",
   "name": "python",
   "nbconvert_exporter": "python",
   "pygments_lexer": "ipython2",
   "version": "2.7.13"
  }
 },
 "nbformat": 4,
 "nbformat_minor": 2
}
