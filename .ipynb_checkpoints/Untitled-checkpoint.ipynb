{
 "cells": [
  {
   "cell_type": "code",
   "execution_count": null,
   "metadata": {
    "collapsed": true
   },
   "outputs": [],
   "source": [
    "def scaffaliMobile():\n",
    "    scaffali = [.1,-1]*7\n",
    "    piani1 = PROD([QUOTE([2]), QUOTE(scaffali)])\n",
    "    piani2 = PROD([QUOTE([1]), piani1])\n",
    "    return piani2;\n",
    "\n",
    "def paretiMobile():\n",
    "    colonne1 = PROD([QUOTE([1]), QUOTE([0.05,0.05,0.05])])\n",
    "    colonne2 = PROD([colonne1, QUOTE([6.6])]) # altezza delle colonne\n",
    "    pareteDietro = R([1,2])(PI/2)(T(2)(-0.15)(PROD([PROD([QUOTE([1.85]), QUOTE([0.05,0.05,0.05])]), QUOTE([6.6])])))\n",
    "    return (STRUCT([colonne2,T(2)(1.85)(colonne2),pareteDietro]));\n",
    "\n",
    "def gambeMobile():\n",
    "    leg = [.1,-.8,.1]\n",
    "    zampeSx = COLOR(BROWN)((PROD([QUOTE(leg), PROD([QUOTE([0.1]), QUOTE([0.2])])])))\n",
    "    zampeDx = T(2)(1.9)(zampeSx)\n",
    "    return(STRUCT([zampeSx,zampeDx]));\n",
    "\n",
    "def tettino():\n",
    "    return T([2,3])([-0.25,6.92])(CUBOID([1,2.5,0]));\n",
    "\n",
    "def mobile():\n",
    "    return STRUCT([T(3)(0.2)(STRUCT([scaffaliMobile(),paretiMobile()])),gambeMobile(),tettino()]);def cube1():\n",
    "    return CUBOID([0.5,1,0.7]);  \n",
    "\n",
    "###TV\n",
    "\n",
    "\n",
    "def cube2():\n",
    "    return T([2,3])([0.1,0.1])(CUBOID([0.3,0.8,0.5]));\n",
    "\n",
    "def scaffaleSingolo():\n",
    "    return (R([1,2])(PI)(T([1,2])([0,-1])(DIFFERENCE([cube1(),cube2()]))));\n",
    "\n",
    "def scaffaleDoppioAlto():\n",
    "    return(T([2,3])([1,2])(DOWN([scaffaleSingolo(),scaffaleSingolo()])));\n",
    "\n",
    "def rect1():\n",
    "    return T([2,3])([0.25,0.1])(CUBOID([0,1.5,1]));\n",
    "\n",
    "def rect2():\n",
    "    return T([2])(0.9)(CUBOID([0,0.2,0.1]));\n",
    "\n",
    "def rect3():\n",
    "    return T([1,2])([-0.25,0.7])(CUBOID([0.4,0.6,0]))\n",
    "\n",
    "def tv():\n",
    "    return(COLOR(BLACK)(STRUCT([rect1(),rect2(),rect3()])));\n",
    "\n",
    "def scaffaleDoppioBasso(): \n",
    "    return(T(2)(1)(DOWN([scaffaleSingolo(),scaffaleSingolo()])));\n",
    "\n",
    "def antaMobileBasso():\n",
    "    return (T(1)(0.01)(CUBOID([0,2,0.5])));\n",
    "    \n",
    "def tvEscaffale():\n",
    "    return (STRUCT([T([1,3])([-0.2,0.71])(tv()),scaffaleDoppioAlto(),antaMobileBasso(),scaffaleDoppioBasso()]));\n"
   ]
  },
  {
   "cell_type": "code",
   "execution_count": null,
   "metadata": {
    "collapsed": true
   },
   "outputs": [],
   "source": []
  }
 ],
 "metadata": {
  "kernelspec": {
   "display_name": "Python 2",
   "language": "python",
   "name": "python2"
  },
  "language_info": {
   "codemirror_mode": {
    "name": "ipython",
    "version": 2
   },
   "file_extension": ".py",
   "mimetype": "text/x-python",
   "name": "python",
   "nbconvert_exporter": "python",
   "pygments_lexer": "ipython2",
   "version": "2.7.13"
  }
 },
 "nbformat": 4,
 "nbformat_minor": 2
}
