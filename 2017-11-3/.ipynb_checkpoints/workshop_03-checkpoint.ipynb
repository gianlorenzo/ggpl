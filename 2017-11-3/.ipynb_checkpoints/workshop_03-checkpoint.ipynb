{
 "cells": [
  {
   "cell_type": "markdown",
   "metadata": {},
   "source": [
    "# Workshop 3 (Assegnato il 3-11-2017)"
   ]
  },
  {
   "cell_type": "markdown",
   "metadata": {},
   "source": [
    "## Realizzazione in PyPlasm del modello di una chiesa disegnato da Leonardo da Vinci"
   ]
  },
  {
   "cell_type": "markdown",
   "metadata": {},
   "source": [
    "L'approccio è il seguente: si realizza un quarto di chiesa e poi si replicano le parti restanti per comporre la chiesa finale essendo essa perfettamente simmetrica"
   ]
  },
  {
   "cell_type": "markdown",
   "metadata": {},
   "source": [
    "![church1](church1.JPG) ![church2](church2.JPG)"
   ]
  },
  {
   "cell_type": "code",
   "execution_count": 1,
   "metadata": {},
   "outputs": [
    {
     "name": "stdout",
     "output_type": "stream",
     "text": [
      "Evaluating fenvs.py..\n",
      "...fenvs.py imported in 0.00579149717721 seconds\n"
     ]
    }
   ],
   "source": [
    "from larlib import *"
   ]
  },
  {
   "cell_type": "code",
   "execution_count": 10,
   "metadata": {
    "collapsed": true
   },
   "outputs": [],
   "source": [
    "# Sfera dimezzata definisce una mezza sfera di raggio radius\n",
    "def sferaDimezzata (radius):\n",
    "        def GSPHERE0 (subds):\n",
    "            N , M = subds\n",
    "            domain = Hpc(Grid([N*[PI/N],M*[PI/M]]))\n",
    "            domain = MAT([[1,0,0,0],[PI/2,1,0,0],[PI,0,1,0],[0,0,0,1]])(domain)\n",
    "            fx  = lambda p: radius * math.cos(p[0]) * math.sin  (p[1])\n",
    "            fy  = lambda p: radius * math.cos(p[0]) * math.cos (p[1])\n",
    "            fz  = lambda p: radius * math.sin(p[0])\n",
    "            ret=  GMAP([fx, fy, fz])(domain)\n",
    "            return ret\n",
    "        return GSPHERE0"
   ]
  },
  {
   "cell_type": "code",
   "execution_count": 11,
   "metadata": {
    "collapsed": true
   },
   "outputs": [],
   "source": [
    "def sferaDimezzataX():\n",
    "    spessore = CUBOID([0.1,0.1,0.1]) # spessore usato per riempire la sfera dimezzata\n",
    "    return JOIN([sferaDimezzata(1.1)([30,30]),spessore])"
   ]
  },
  {
   "cell_type": "code",
   "execution_count": 12,
   "metadata": {
    "collapsed": true
   },
   "outputs": [],
   "source": [
    "cilindro = CYLINDER([1,2.9])(30) # cilindro definito per realizare le 4 entrate della chiesa\n",
    "anello = T(3)(2.7)(CYLINDER([1.1,0.1])(30)) # primo anello del tetto del cilindro\n",
    "fregioCircolare = T(3)(2.91)(CYLINDER([1.2,0.1])(30)) #tetto del cilindro delle 4 entrate\n",
    "\n",
    "# Funzione che definisce il portone con fregio superiore delle 4 entrate della chiesa\n",
    "def traveEAnta():\n",
    "    antaSinistraPortone = T([1])([0.2])(CUBOID([0.1,0.1,1.2]))\n",
    "    travePortone = T([1,3])([-0.1,1.2])(CUBOID([0.4,0.1,0.1]))\n",
    "    trave2Portone = T([1,3])([-0.2,1.3])(CUBOID([0.6,0.1,0.15]))\n",
    "    tettoPortone =  R([1,3])(-PI/4)(T([1,3])([-0.2,1.3])(CUBOID([0.7,0.1,0.15])))\n",
    "    return TOP([STRUCT([antaSinistraPortone,travePortone,trave2Portone]),tettoPortone])\n",
    "\n",
    "# Definisco i 2 fregi rettangolari del portico\n",
    "fregioSinistro = T([1,2,3])([0.4,-0.05,0.5])(R([1,2])(PI-10)(CUBOID([0.15,0.1,1.9])))\n",
    "fregioDestro= T([1,2,3])([0.8,-0.4,0.5])(R([1,2])(PI-10)(CUBOID([0.15,0.1,1.9])))\n",
    "fregioSinistroPortico = T(2)(0.95)(STRUCT([traveEAnta(),fregioSinistro,fregioDestro]))\n",
    "fregioDestroPortico = T(2)(0.95)(STRUCT([T([1,2])([1.09,-0.95])(R([1,2])(PI/2)(traveEAnta())),fregioSinistro,fregioDestro]))\n",
    "\n",
    "# Creo il portico di entrata della chiesa\n",
    "porticoConFregioSinistro = STRUCT([cilindro,fregioSinistroPortico,anello,fregioCircolare])\n",
    "porticoConFregioDestro = STRUCT([cilindro,fregioDestroPortico,anello,fregioCircolare])\n",
    "porticoSenzaFregio = STRUCT([cilindro,anello,fregioCircolare])"
   ]
  },
  {
   "cell_type": "code",
   "execution_count": 13,
   "metadata": {},
   "outputs": [
    {
     "name": "stdout",
     "output_type": "stream",
     "text": [
      "Child 3\n"
     ]
    }
   ],
   "source": [
    "# Definisco l'entrata della chiesa con la sua piccola cupola\n",
    "quartoDiSfera = R([1,2])(-PI/4)(R([1,3])(PI/2)(S([1,2,3])([1,1,1])(sferaDimezzataX())))\n",
    "cupolaConBase = STRUCT([porticoSenzaFregio,T(3)(3)(quartoDiSfera)])"
   ]
  },
  {
   "cell_type": "code",
   "execution_count": 14,
   "metadata": {
    "collapsed": true
   },
   "outputs": [],
   "source": [
    "# Unisco tra di loro il corpo della chiesa con la cupola principale\n",
    "def corpoECupola():\n",
    "    colonnato = DIFFERENCE([CUBOID([1.1,1.1,5.6]),T([1,2,3])([0.18,1,0.1])(CUBOID([0.8,0.2,0.5])),T([1,2,3])([0.43,1,1])(CUBOID([0.3,0.2,3.5]))])\n",
    "    colonnatoEcupola = TOP([colonnato,S([1,2,3])([0.3,0.3,0.3])(cupolaConBase)])\n",
    "    corpoCentrale = STRUCT([T([1,2])([4,4])(colonnatoEcupola),CUBOID([5,5,5.5])])\n",
    "    return STRUCT([corpoCentrale,T([1,2,3])([2.5,2.5,1])(S([1,2,3])([2,2,2])(cupolaConBase)),T([1,2,3])([2.5,2.5,9])(S([1,2,3])([0.3,0.3,0.3])(cupolaConBase))])"
   ]
  },
  {
   "cell_type": "code",
   "execution_count": 15,
   "metadata": {
    "collapsed": true
   },
   "outputs": [],
   "source": [
    "# Creo un quarto della chiesa finale\n",
    "def quartoDiChiesa():\n",
    "    cupolaConFregioSinistro = STRUCT([porticoConFregioSinistro,T(3)(3)(quartoDiSfera)])\n",
    "    cupolaConFregioDestro = STRUCT([porticoConFregioDestro,T(3)(3)(quartoDiSfera)])\n",
    "    return INTERSECTION([T([2])([-2.5])(CUBOID([4,4,10.5])),\n",
    "                         STRUCT([cupolaConFregioSinistro,T([1,2])([2.5,-2.5])(cupolaConFregioDestro),\n",
    "                                 T([1,2])([-2.5,-5])(corpoECupola())])])\n",
    "    "
   ]
  },
  {
   "cell_type": "code",
   "execution_count": 16,
   "metadata": {
    "collapsed": true
   },
   "outputs": [],
   "source": [
    "# La chiesa finale è data dal quarto di chiesa ripetuto 4 volta, essendo essa perfettamente simmetrica\n",
    "chiesaFinale = STRUCT([STRUCT([quartoDiChiesa(),T([1,2])([-2.5,-2.5])(R([1,2])(PI/2)(quartoDiChiesa()))]),(T(2)(-5)(R([1,2])(PI)(STRUCT([quartoDiChiesa(),T([1,2])([-2.5,-2.5])(R([1,2])(PI/2)(quartoDiChiesa()))]))))])"
   ]
  },
  {
   "cell_type": "code",
   "execution_count": 17,
   "metadata": {},
   "outputs": [
    {
     "data": {
      "text/plain": [
       "<pyplasm.xgepy.Hpc; proxy of <Swig Object of type 'std::shared_ptr< Hpc > *' at 0x000000000F6B2030> >"
      ]
     },
     "execution_count": 17,
     "metadata": {},
     "output_type": "execute_result"
    }
   ],
   "source": [
    "VIEW(COLOR([0.6,0.4,0.2])(chiesaFinale))"
   ]
  },
  {
   "cell_type": "markdown",
   "metadata": {
    "collapsed": true
   },
   "source": [
    "![chiesafinale](chiesaFinale.JPG)"
   ]
  },
  {
   "cell_type": "code",
   "execution_count": null,
   "metadata": {
    "collapsed": true
   },
   "outputs": [],
   "source": []
  },
  {
   "cell_type": "code",
   "execution_count": null,
   "metadata": {
    "collapsed": true
   },
   "outputs": [],
   "source": []
  },
  {
   "cell_type": "code",
   "execution_count": null,
   "metadata": {
    "collapsed": true
   },
   "outputs": [],
   "source": []
  }
 ],
 "metadata": {
  "kernelspec": {
   "display_name": "Python 2",
   "language": "python",
   "name": "python2"
  },
  "language_info": {
   "codemirror_mode": {
    "name": "ipython",
    "version": 2
   },
   "file_extension": ".py",
   "mimetype": "text/x-python",
   "name": "python",
   "nbconvert_exporter": "python",
   "pygments_lexer": "ipython2",
   "version": "2.7.13"
  }
 },
 "nbformat": 4,
 "nbformat_minor": 2
}
