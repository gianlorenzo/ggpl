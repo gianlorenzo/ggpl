{
 "cells": [
  {
   "cell_type": "markdown",
   "metadata": {},
   "source": [
    "### Workshop 3\n",
    "\n",
    "#### Riproduzione di una chiesa di Leonardo da Vinci"
   ]
  },
  {
   "cell_type": "markdown",
   "metadata": {},
   "source": [
    "![church](church.png)"
   ]
  },
  {
   "cell_type": "code",
   "execution_count": 2,
   "metadata": {
    "collapsed": true
   },
   "outputs": [],
   "source": [
    "from pyplasm import *\n"
   ]
  },
  {
   "cell_type": "code",
   "execution_count": 18,
   "metadata": {},
   "outputs": [],
   "source": [
    "### Realizzazione della chiesa a base circolare disegnata da Leonardo da Vinci. Si utilizza la funzione church che al suo interno \n",
    "### richiama varie funzioni per creale la base, le cupoline più piccole e la cupola normale. Per realizzare la semisfera, è \n",
    "### stata modificata la funzione GSPHERE0 attrvarso la seguente espressione: M*[PI/M]. A numeratore troviamo PI anziche 2*PI\n",
    "\n",
    "def church(a,b,c):\n",
    "    def base():\n",
    "        baseMaggiore =CYLINDER([20, 1])(64)\n",
    "        baseIntermedia=CYLINDER([19, 1.3])(64)\n",
    "        return STRUCT([baseMaggiore,baseIntermedia])\n",
    "    def strutture():\n",
    "        minore=TOP([TOP([CYLINDER([8, 10.5])(64),(T([1,2,3])([16,1.5,14.5])(R([1,3])(-PI/2)(SEMISPHERE(8)([50,42]))))]),\n",
    "                   CUBOID([2,2,3])])\n",
    "        cilindro=T([1,3])([16,0])(CYLINDER([4, 6])(64))\n",
    "        sfera =(T([1,2,3])([16,1.5,14.5])(R([1,3])(-PI/2)(SEMISPHERE(4)([50,42]))))\n",
    "        insieme= STRUCT([TOP([cilindro,sfera])])\n",
    "        colonna = (COMP([STRUCT, DOUBLE_DIESIS(8)]))([insieme, R([1, 2])((RAISE(DIV)([PI,3.5])))])\n",
    "        return STRUCT([minore,S([1,2,3])([0.9,0.9,0.9])(colonna)])\n",
    "    def incavo():\n",
    "        minore=CYLINDER([18, 20])(64)\n",
    "        return minore;\n",
    "    def SEMISPHERE (radius):\n",
    "        def GSPHERE0 (subds):\n",
    "            N , M = subds\n",
    "            domain = Hpc(Grid([N*[PI/N],M*[PI/M]]))\n",
    "            domain = MAT([[1,0,0,0],[-PI/2,1,0,0],[-PI,0,1,0],[0,0,0,1]])(domain)\n",
    "            fx  = lambda p: radius * math.cos(p[0]) * math.sin  (p[1])\n",
    "            fy  = lambda p: radius * math.cos(p[0]) * math.cos (p[1])\n",
    "            fz  = lambda p: radius * math.sin(p[0])\n",
    "            ret = GMAP([fx, fy, fz])(domain)\n",
    "            return ret\n",
    "        return GSPHERE0\n",
    "    return S([1,2,3])([a,b,c])((COLOR([0.8,0.4,0.2])(TOP([TOP([(STRUCT([base(),incavo()])),CYLINDER([20, 1.5])(64),]),strutture()]))))\n"
   ]
  },
  {
   "cell_type": "code",
   "execution_count": 19,
   "metadata": {},
   "outputs": [
    {
     "name": "stdout",
     "output_type": "stream",
     "text": [
      "Child 3\n",
      "Child 3\n"
     ]
    },
    {
     "data": {
      "text/plain": [
       "<pyplasm.xgepy.Hpc; proxy of <Swig Object of type 'std::shared_ptr< Hpc > *' at 0x000000000CF84600> >"
      ]
     },
     "execution_count": 19,
     "metadata": {},
     "output_type": "execute_result"
    }
   ],
   "source": [
    "VIEW(church(4,5,6))"
   ]
  },
  {
   "cell_type": "markdown",
   "metadata": {
    "collapsed": true
   },
   "source": [
    "![churchpy](churchpy.png)"
   ]
  },
  {
   "cell_type": "code",
   "execution_count": null,
   "metadata": {
    "collapsed": true
   },
   "outputs": [],
   "source": []
  }
 ],
 "metadata": {
  "kernelspec": {
   "display_name": "Python 2",
   "language": "python",
   "name": "python2"
  },
  "language_info": {
   "codemirror_mode": {
    "name": "ipython",
    "version": 2
   },
   "file_extension": ".py",
   "mimetype": "text/x-python",
   "name": "python",
   "nbconvert_exporter": "python",
   "pygments_lexer": "ipython2",
   "version": "2.7.13"
  }
 },
 "nbformat": 4,
 "nbformat_minor": 2
}
