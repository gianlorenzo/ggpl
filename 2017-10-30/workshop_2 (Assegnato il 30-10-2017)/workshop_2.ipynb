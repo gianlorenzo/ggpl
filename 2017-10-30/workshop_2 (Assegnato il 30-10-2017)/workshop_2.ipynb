{
 "cells": [
  {
   "cell_type": "markdown",
   "metadata": {},
   "source": [
    "## Workshop 2"
   ]
  },
  {
   "cell_type": "markdown",
   "metadata": {},
   "source": [
    "### Creazioni di alcuni mobili presi dal catalogo di IKEA"
   ]
  },
  {
   "cell_type": "code",
   "execution_count": 3,
   "metadata": {},
   "outputs": [
    {
     "name": "stdout",
     "output_type": "stream",
     "text": [
      "Evaluating fenvs.py..\n",
      "...fenvs.py imported in 0.0067651203407 seconds\n"
     ]
    }
   ],
   "source": [
    "from pyplasm import *\n",
    "from larlib import *"
   ]
  },
  {
   "cell_type": "markdown",
   "metadata": {},
   "source": [
    "### Mobile #1"
   ]
  },
  {
   "cell_type": "markdown",
   "metadata": {},
   "source": [
    "![mobile1](mobile1.png)"
   ]
  },
  {
   "cell_type": "code",
   "execution_count": 157,
   "metadata": {
    "collapsed": true
   },
   "outputs": [],
   "source": [
    "### Effettuo la differenza fra due parallelepipedi generati con la funzione CUBOID. Il secondo, di dimensioni ridotte\n",
    "### rispetto al primo, viene traslato sulla seconda e terza coordinata in modo tale da essere nello stesso centro\n",
    "### di simmetria del primo. Infine effettuo la differenza tra i due parallelepipedi in modo da creare uno scaffale della liberia\n",
    "\n",
    "### Creo i due cubi per generare lo scaffale singolo\n",
    "def cube1():\n",
    "    return CUBOID([1,2,1]);  \n",
    "\n",
    "def cube2():\n",
    "    return T([2,3])([0.1,0.1])(CUBOID([0.8,1.8,0.8]));\n",
    "\n",
    "### Creo il tettino del mobile, generando un rettangolo delle dimensioni del cubo aumentate di 0.3\n",
    "def tetto():\n",
    "    return (CUBOID([1.3,2.3]));\n",
    "\n",
    "### Definisco il pavimento\n",
    "def basis():\n",
    "    return (COMP([EMBED(1),CUBOID])([5,5]));\n",
    "\n",
    "### Creo un singolo scaffale: effettuo una traslazione per spostarlo al centro del pavimento \n",
    "### ed una rotazione per ruotarlo nel giusto verso\n",
    "def scaffaleSingolo():\n",
    "    return R([1,2])(PI)(T([1,2])([-3,-3.5])(DIFFERENCE([cube1(),cube2()])));\n",
    "\n",
    "### Creo i sei ripiani del mobile\n",
    "def scaffale():\n",
    "    return (T(3)(0.2)(\n",
    "        TOP([scaffaleSingolo(),TOP([scaffaleSingolo(),\n",
    "                                    TOP([scaffaleSingolo(),TOP([scaffaleSingolo(),\n",
    "                                                                TOP([scaffaleSingolo(),scaffaleSingolo()])])])])])));\n",
    "\n",
    "### Creo la gambe del mobile\n",
    "def leg():\n",
    "    return COLOR(BROWN)(CUBOID([0.1,0.1,0.2]));\n",
    "\n",
    "def scaffaleConGambe():\n",
    "    return STRUCT([T([1,2])([2.9,1.5])(leg()),T([1,2])([2,1.5])(leg()),\n",
    "                   T([1,2])([2,3.4])(leg()),T([1,2])([2.9,3.4])(leg()),scaffale()]);\n",
    "\n",
    "### Unisco lo scaffale singolo al pavimento\n",
    "def scaffaleCompleto():\n",
    "    return TOP([STRUCT([basis(),COLOR(BROWN)(scaffaleConGambe())]),tetto()]);\n",
    "\n"
   ]
  },
  {
   "cell_type": "code",
   "execution_count": 159,
   "metadata": {},
   "outputs": [
    {
     "data": {
      "text/plain": [
       "<pyplasm.xgepy.Hpc; proxy of <Swig Object of type 'std::shared_ptr< Hpc > *' at 0x000000000F6B5900> >"
      ]
     },
     "execution_count": 159,
     "metadata": {},
     "output_type": "execute_result"
    }
   ],
   "source": [
    "VIEW(scaffaleCompleto())"
   ]
  },
  {
   "cell_type": "markdown",
   "metadata": {},
   "source": [
    "![mobile](mobile.png)"
   ]
  },
  {
   "cell_type": "code",
   "execution_count": 210,
   "metadata": {},
   "outputs": [],
   "source": [
    "def cube1():\n",
    "    return CUBOID([0.5,1,0.7]);  \n",
    "\n",
    "def cube2():\n",
    "    return T([2,3])([0.1,0.1])(CUBOID([0.3,0.8,0.5]));\n",
    "\n",
    "def scaffaleSingolo():\n",
    "    return (R([1,2])(PI)(T([1,2])([0,-1])(DIFFERENCE([cube1(),cube2()]))));\n",
    "\n",
    "def scaffaleDoppioAlto():\n",
    "    return(T([2,3])([1,2])(DOWN([scaffaleSingolo(),scaffaleSingolo()])));\n",
    "\n",
    "def rect1():\n",
    "    return T([2,3])([0.25,0.1])(CUBOID([0,1.5,1]));\n",
    "\n",
    "def rect2():\n",
    "    return T([2])(0.9)(CUBOID([0,0.2,0.1]));\n",
    "\n",
    "def rect3():\n",
    "    return T([1,2])([-0.25,0.7])(CUBOID([0.4,0.6,0]))\n",
    "\n",
    "def tv():\n",
    "    return(COLOR(BLACK)(STRUCT([rect1(),rect2(),rect3()])));\n",
    "\n",
    "def scaffaleDoppioBasso(): \n",
    "    return(T(2)(1)(DOWN([scaffaleSingolo(),scaffaleSingolo()])));\n",
    "\n",
    "def antaMobileBasso():\n",
    "    return (T(1)(0.01)(CUBOID([0,2,0.5])));\n",
    "    \n",
    "def tvEscaffale():\n",
    "    return (STRUCT([T([1,3])([-0.2,0.71])(tv()),scaffaleDoppioAlto(),antaMobileBasso(),scaffaleDoppioBasso()]));\n",
    "\n",
    "\n",
    "    \n"
   ]
  },
  {
   "cell_type": "code",
   "execution_count": 211,
   "metadata": {},
   "outputs": [
    {
     "data": {
      "text/plain": [
       "<pyplasm.xgepy.Hpc; proxy of <Swig Object of type 'std::shared_ptr< Hpc > *' at 0x000000000F554930> >"
      ]
     },
     "execution_count": 211,
     "metadata": {},
     "output_type": "execute_result"
    }
   ],
   "source": [
    "VIEW(tvEscaffale())"
   ]
  },
  {
   "cell_type": "code",
   "execution_count": null,
   "metadata": {
    "collapsed": true
   },
   "outputs": [],
   "source": []
  },
  {
   "cell_type": "code",
   "execution_count": null,
   "metadata": {
    "collapsed": true
   },
   "outputs": [],
   "source": []
  }
 ],
 "metadata": {
  "kernelspec": {
   "display_name": "Python 2",
   "language": "python",
   "name": "python2"
  },
  "language_info": {
   "codemirror_mode": {
    "name": "ipython",
    "version": 2
   },
   "file_extension": ".py",
   "mimetype": "text/x-python",
   "name": "python",
   "nbconvert_exporter": "python",
   "pygments_lexer": "ipython2",
   "version": "2.7.13"
  }
 },
 "nbformat": 4,
 "nbformat_minor": 2
}
