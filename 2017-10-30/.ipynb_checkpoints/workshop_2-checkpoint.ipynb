{
 "cells": [
  {
   "cell_type": "markdown",
   "metadata": {},
   "source": [
    "## Workshop 2"
   ]
  },
  {
   "cell_type": "markdown",
   "metadata": {},
   "source": [
    "### Creazioni di alcuni mobili presi dal catalogo di IKEA"
   ]
  },
  {
   "cell_type": "code",
   "execution_count": 2,
   "metadata": {},
   "outputs": [],
   "source": [
    "from pyplasm import *"
   ]
  },
  {
   "cell_type": "markdown",
   "metadata": {},
   "source": [
    "### Mobile #1"
   ]
  },
  {
   "cell_type": "markdown",
   "metadata": {},
   "source": [
    "![mobile1](mobile1.jpg)"
   ]
  },
  {
   "cell_type": "code",
   "execution_count": 3,
   "metadata": {
    "collapsed": true
   },
   "outputs": [],
   "source": [
    "def scaffaliMobile():\n",
    "    scaffali = [.1,-1]*7\n",
    "    piani = PROD([QUOTE([2]), QUOTE(scaffali)])\n",
    "    pianiFinali = PROD([QUOTE([1]), piani])\n",
    "    return pianiFinali;\n",
    "\n",
    "def paretiMobile():\n",
    "    colonne = PROD([QUOTE([1]), QUOTE([0.05,0.05,0.05])])\n",
    "    colonneFinali = PROD([colonne, QUOTE([6.6])]) # altezza delle colonne\n",
    "    pareteDietro = R([1,2])(PI/2)(T(2)(-0.15)(PROD([PROD([QUOTE([1.85]), QUOTE([0.05,0.05,0.05])]), QUOTE([6.6])])))\n",
    "    return (STRUCT([colonneFinali,T(2)(1.85)(colonneFinali),pareteDietro]));\n",
    "\n",
    "def gambeMobile():\n",
    "    gamba = [.1,-.8,.1]\n",
    "    gambeSx = (PROD([QUOTE(gamba), PROD([QUOTE([0.1]), QUOTE([0.2])])]))\n",
    "    gambeDx = T(2)(1.9)(gambeSx)\n",
    "    return(STRUCT([gambeSx,gambeDx]));\n",
    "\n",
    "def tettino():\n",
    "    baseTetto = [-6.9,0.05]\n",
    "    tetto = PROD([QUOTE([2.2]), QUOTE(baseTetto)])\n",
    "    tettoFinale = PROD([QUOTE([1]), tetto])\n",
    "    return T(2)(-0.11)(tettoFinale);\n",
    "\n",
    "def mobile():\n",
    "    return COLOR([0.6,0.4,0.2])(STRUCT([T(3)(0.2)(STRUCT([scaffaliMobile(),paretiMobile()])),gambeMobile(),tettino()]));\n"
   ]
  },
  {
   "cell_type": "code",
   "execution_count": 4,
   "metadata": {},
   "outputs": [
    {
     "data": {
      "text/plain": [
       "<pyplasm.xgepy.Hpc; proxy of <Swig Object of type 'std::shared_ptr< Hpc > *' at 0x000000000ED11450> >"
      ]
     },
     "execution_count": 4,
     "metadata": {},
     "output_type": "execute_result"
    }
   ],
   "source": [
    "VIEW(mobile())"
   ]
  },
  {
   "cell_type": "markdown",
   "metadata": {},
   "source": [
    "![mobile1py](mobile1py.jpg)"
   ]
  },
  {
   "cell_type": "markdown",
   "metadata": {},
   "source": [
    "### Mobile #2"
   ]
  },
  {
   "cell_type": "markdown",
   "metadata": {},
   "source": [
    "![mobile2](mobile2.jpg)"
   ]
  },
  {
   "cell_type": "code",
   "execution_count": 5,
   "metadata": {
    "collapsed": true
   },
   "outputs": [],
   "source": [
    "def scaffaliMobile():\n",
    "    scaffali = [.1,-2,0.05,-1,.1]\n",
    "    piani = PROD([QUOTE([6]), QUOTE(scaffali)])\n",
    "    pianiFinali = PROD([QUOTE([1]), piani])\n",
    "    return pianiFinali;\n",
    "\n",
    "def paretiMobile():\n",
    "    colonne = PROD([QUOTE([1]), QUOTE([0.05,0.05,0.05])])\n",
    "    colonneFinali = PROD([colonne, QUOTE([3.2])]) # altezza delle colonne\n",
    "    return (STRUCT([colonneFinali,T(2)(5.85)(colonneFinali)]));\n",
    "\n",
    "def paretiCentrali():\n",
    "    colonne = PROD([QUOTE([1]), QUOTE([0.01,0.01,0.01])])\n",
    "    colonneCentrali = PROD([colonne, QUOTE([3.2])]) # altezza delle colonne\n",
    "    return (STRUCT([T(2)(1.5)(colonneCentrali),T(2)(3)(colonneCentrali),T(2)(4.5)(colonneCentrali)]));\n",
    "\n",
    "def tetto():\n",
    "    baseTetto = [-3.25,0.06]\n",
    "    tetto = PROD([QUOTE([6.5]), QUOTE(baseTetto)])\n",
    "    tettoFinale = PROD([QUOTE([1]), tetto])\n",
    "    return T(2)(-0.25)(tettoFinale);\n",
    "    \n",
    "def gambeMobile():\n",
    "    gamba = [.1,-.8,.1]\n",
    "    gambaSx = PROD([QUOTE(gamba), PROD([QUOTE([0.15]), QUOTE([0.5])])])\n",
    "    gambaDx = T(2)(5.85)(gambaSx)\n",
    "    return(STRUCT([gambaSx,gambaDx]));\n",
    "\n",
    "def mobile():\n",
    "    return T(3)(0.5)(STRUCT([scaffaliMobile(),paretiMobile(),paretiCentrali(),tetto()]));\n",
    "\n",
    "def mobileCompleto():\n",
    "    return(COLOR([0.6,0.4,0.2])(STRUCT([mobile(),gambeMobile()])));\n",
    "    "
   ]
  },
  {
   "cell_type": "code",
   "execution_count": 6,
   "metadata": {},
   "outputs": [
    {
     "data": {
      "text/plain": [
       "<pyplasm.xgepy.Hpc; proxy of <Swig Object of type 'std::shared_ptr< Hpc > *' at 0x000000000EC51480> >"
      ]
     },
     "execution_count": 6,
     "metadata": {},
     "output_type": "execute_result"
    }
   ],
   "source": [
    "VIEW(mobileCompleto())"
   ]
  },
  {
   "cell_type": "markdown",
   "metadata": {},
   "source": [
    "![mobile2](mobile2py.jpg)"
   ]
  },
  {
   "cell_type": "code",
   "execution_count": null,
   "metadata": {
    "collapsed": true
   },
   "outputs": [],
   "source": []
  }
 ],
 "metadata": {
  "kernelspec": {
   "display_name": "Python 2",
   "language": "python",
   "name": "python2"
  },
  "language_info": {
   "codemirror_mode": {
    "name": "ipython",
    "version": 2
   },
   "file_extension": ".py",
   "mimetype": "text/x-python",
   "name": "python",
   "nbconvert_exporter": "python",
   "pygments_lexer": "ipython2",
   "version": "2.7.13"
  }
 },
 "nbformat": 4,
 "nbformat_minor": 2
}
