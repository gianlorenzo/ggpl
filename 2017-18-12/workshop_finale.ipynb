{
 "cells": [
  {
   "cell_type": "markdown",
   "metadata": {},
   "source": [
    "# Workshop Finale"
   ]
  },
  {
   "cell_type": "markdown",
   "metadata": {},
   "source": [
    "## Realizzazione di Villa Chiericati in PyPlasm, progettata dall'architetto Andrea Palladio"
   ]
  },
  {
   "cell_type": "markdown",
   "metadata": {},
   "source": [
    "![villa1.jpg](villa1.JPG) ![villa2.jpg](villa2.JPG) ![villa3.jpg](villa3.JPG) ![villa4.jpg](villa4.JPG) \n",
    "![villa5.jpg](villa5.JPG) "
   ]
  },
  {
   "cell_type": "raw",
   "metadata": {},
   "source": [
    "Nel workshop precedente è stata realizzata la piantina di 2D della Villa. Utilizzando InkScape ed Autocad è stato creato il file .svg il quale successivamente è stato convertito in un file di linee (.lines). Attraverso la definizione della seguente funzione, le linee contenute il questo file, vengono trasformate in un modello larlib [V,EV] costituito dai vertici e dagli spigoli della piantina."
   ]
  },
  {
   "cell_type": "code",
   "execution_count": 69,
   "metadata": {
    "collapsed": true
   },
   "outputs": [],
   "source": [
    "from pyplasm import*\n",
    "from larlib import*\n",
    "import math\n",
    "import csv"
   ]
  },
  {
   "cell_type": "code",
   "execution_count": 70,
   "metadata": {
    "collapsed": true
   },
   "outputs": [],
   "source": [
    "def perimetro(): \n",
    "    with open(\"perimetro.lines\", \"rb\") as file:\n",
    "        file_reader = csv.reader(file, delimiter=\",\")\n",
    "        chiavi = {} ### diizionario delle chiavi\n",
    "        nodi = [] ### array con i vertici\n",
    "        archi= [] ### array con gli archi, ovvero gli spigoli\n",
    "        i = 0 ### inizializzo un contatore\n",
    "    \n",
    "        for righe in file_reader:\n",
    "            riga0 = math.floor(float(righe[0])*100)/100\n",
    "            riga1 = math.floor(float(righe[1])*100)/100\n",
    "            riga2 = math.floor(float(righe[2])*100)/100\n",
    "            riga3 = math.floor(float(righe[3])*100)/100\n",
    "        \n",
    "            if not(riga0,riga1) in chiavi.keys():\n",
    "                chiavi[(riga0,riga1)] = i\n",
    "                nodi.append((riga0,riga1))\n",
    "                i = i+1\n",
    "            \n",
    "            if not(riga2,riga3) in chiavi.keys():\n",
    "                chiavi[(riga2,riga3)] = i\n",
    "                nodi.append((riga2,riga3))\n",
    "                i = i+1\n",
    "            archi.append((chiavi[(riga0,riga1)],(chiavi[(riga2,riga3)])))\n",
    "        pavimento = T(2)(80)(CUBOID([850,600]))\n",
    "        corpoVilla = MULTEXTRUDE(OFFSET([20, 20])(STRUCT(MKPOLS([nodi,archi]))))(600)\n",
    "    return TEXTURE(\"intonacoVilla.jpg\")(STRUCT([pavimento,corpoVilla]))"
   ]
  },
  {
   "cell_type": "markdown",
   "metadata": {},
   "source": [
    "Implementazione della funzione per realizzare la singola colonna ed il colonnato principale anteposto all'ingresso della villa"
   ]
  },
  {
   "cell_type": "code",
   "execution_count": 71,
   "metadata": {
    "collapsed": true
   },
   "outputs": [],
   "source": [
    "def columna(dm,h,h_base):\n",
    "    \n",
    "    cylndr = COMP([JOIN,TRUNCONE([dm/2,0.8*(dm/2),h])])(24)\n",
    "    \n",
    "    torus_bot = COMP([JOIN,TORUS([dm/12,dm/2])])([8,24])\n",
    "    \n",
    "    torus_top = COMP([JOIN,TORUS([0.8*(dm/12),0.8*(dm/2)])])([8,27])\n",
    "    \n",
    "    base = COMP([T([1,2])([7*(dm/-12),7*(dm/-23)]),CUBOID])([7*(dm/6),7*(dm/6),h_base])\n",
    "    \n",
    "    base_top = COMP([T([1,2])([7*(dm/-12),7*(dm/-12)]),CUBOID])([7*(dm/6),7*(dm/6),dm/6])\n",
    "    \n",
    "    capital = SUM([COMP([JOIN,TRUNCONE([0.8*dm/2, 1.2*dm/2,h/8])])(4),COMP([R([1,2])(PI/4),JOIN,TRUNCONE([0.8*dm/2,1.2*dm/2,\n",
    "                                                                                                         h/8])])(4)]) \n",
    "    return (TOP([TOP([TOP([TOP([TOP([base, torus_bot]), cylndr]), torus_top]), capital]), base_top]))\n",
    "\n",
    "def colonnato():\n",
    "    \n",
    "    basePortico = T([1,2])([211,695])(CUBOID([436,220,100]))\n",
    "    \n",
    "    return TEXTURE(\"intonacoVilla.jpg\")(STRUCT([T([1,2,3])([245,880,100])(columna(50,385,20)),\n",
    "            T([1,2,3])([625,880,100])(columna(50,385,20)),T([1,2,3])([545,880,100])(columna(50,385,20)),\n",
    "             T([1,2,3])([325,880,100])(columna(50,385,20)),basePortico]))"
   ]
  },
  {
   "cell_type": "markdown",
   "metadata": {},
   "source": [
    "Implementazione delle funzioni per la realizzazione di tutte le finestre presenti sul lato frontale e sui due laterali della villa"
   ]
  },
  {
   "cell_type": "code",
   "execution_count": 72,
   "metadata": {
    "collapsed": true
   },
   "outputs": [],
   "source": [
    "def traveEAnta():\n",
    "    \n",
    "    antaSinistraPortone = T([1])([0.2])(CUBOID([0.1,0.1,1.2]))\n",
    "    \n",
    "    travePortone = T([1,3])([-0.5,1.2])(CUBOID([0.8,0.1,0.1]))\n",
    "    \n",
    "    trave2Portone = T([1,3])([-0.5,-0.1])(CUBOID([0.8,0.1,0.1]))\n",
    "    \n",
    "    trave3Portone = T([1,3])([-0.2,1.3])(CUBOID([0.6,0.1,0.15]))\n",
    "    \n",
    "    return STRUCT([antaSinistraPortone,travePortone,trave2Portone,trave3Portone])\n",
    "\n",
    "def finestreFrontali():\n",
    "    \n",
    "    antaFinestra = COLOR([0.6,0.4,0.2])(R([2,3])(PI/2)(T([1,2,3])([-0.6,-0.1,-0.1])(CUBOID([0.8,1.3]))))\n",
    "    \n",
    "    finestraInferiore = STRUCT([antaFinestra,\n",
    "                                        TEXTURE(\"intonacoFinestre.jpg\")(STRUCT([traveEAnta(),\n",
    "                                                                        T([1,2])([-0.4,0.1])(R([1,2])(PI)(traveEAnta()))]))])\n",
    "    \n",
    "    finestraSuperiore = COLOR(BLACK)(R([1,3])(PI/2)(R([2,3])(PI/2)(CUBOID([0.6,1]))))\n",
    "    \n",
    "    return S([1,2,3])([100,100,100])(STRUCT([T([1,2,3])([7.75,6.95,1.5])(finestraInferiore),\n",
    "                                             T([1,2,3])([1.2,6.95,1.6])(finestraInferiore), \n",
    "                                             T([1,2,3])([1.5,7,5])(finestraSuperiore),\n",
    "                                             T([1,2,3])([8.1,7,5])(finestraSuperiore)]))\n",
    "\n",
    "def finestreLaterali():\n",
    "    \n",
    "    finestreSinistra = COLOR(BLACK)(S([1,2,3])([100,100,100])(R([1,3])(PI/2)(R([2,3])(PI)(STRUCT([\n",
    "        T([1,2,3])([5,-6.7,-0.001])(CUBOID([0.6,1])),T([1,2,3])([5,-5.2,-0.001])(CUBOID([0.6,1])),\n",
    "        T([1,2,3])([5,-3.8,-0.001])(CUBOID([0.6,1])),T([1,2,3])([5,-2.3,-0.001])(CUBOID([0.6,1]))])))))\n",
    "    \n",
    "    finestreDestra = COLOR(BLACK)(S([1,2,3])([100,100,100])(R([1,3])(PI/2)(R([2,3])(PI)(STRUCT([\n",
    "        T([1,2,3])([5,-6.7,8.64])(CUBOID([0.6,1])),T([1,2,3])([5,-5.2,8.64])(CUBOID([0.6,1])),\n",
    "        T([1,2,3])([5,-3.8,8.64])(CUBOID([0.6,1])),T([1,2,3])([5,-2.3,8.64])(CUBOID([0.6,1]))])))))\n",
    "    \n",
    "    antaFinestra = COLOR([0.6,0.4,0.2])(R([2,3])(PI/2)(T([1,2,3])([-0.6,-0.1,-0.1])(CUBOID([0.8,1.3]))))\n",
    "    \n",
    "    finestraBassaDestra = S([1,2,3])([100,100,100])(STRUCT([antaFinestra,\n",
    "                                        TEXTURE(\"intonacoFinestre.jpg\")(STRUCT([traveEAnta(),\n",
    "                                                                        T([1,2])([-0.4,0.1])(R([1,2])(PI)(traveEAnta()))]))]))\n",
    "    \n",
    "    finestreBasseDestra = R([1,2])(PI/2)(R([2,3])(2*PI)(STRUCT([T([1,2,3])([650,-2,160.64])(finestraBassaDestra),\n",
    "                                                                T([1,2,3])([250,-2,160.64])(finestraBassaDestra)])))\n",
    "    \n",
    "    finestraBassaSinistra = S([1,2,3])([100,100,100])(R([1,2])(-PI/2)(STRUCT([antaFinestra,\n",
    "                                        TEXTURE(\"intonacoFinestre.jpg\")(STRUCT([traveEAnta(),\n",
    "                                                                        T([1,2])([-0.4,0.1])(R([1,2])(PI)(traveEAnta()))]))])))\n",
    "    \n",
    "    finestreBasseSinistra = STRUCT([T([1,2,3])([860,600,160.64])(finestraBassaSinistra),\n",
    "                                   T([1,2,3])([860,450,160.64])(finestraBassaSinistra),\n",
    "                                   T([1,2,3])([860,300,160.64])(finestraBassaSinistra),\n",
    "                                   T([1,2,3])([860,150,160.64])(finestraBassaSinistra)])\n",
    "    \n",
    "    return STRUCT([finestreSinistra,finestreDestra,finestreBasseDestra,finestreBasseSinistra])"
   ]
  },
  {
   "cell_type": "markdown",
   "metadata": {},
   "source": [
    "Implementazione della funzione per realizzare la porta di ingresso e la porta laterale"
   ]
  },
  {
   "cell_type": "code",
   "execution_count": 73,
   "metadata": {
    "collapsed": true
   },
   "outputs": [],
   "source": [
    "def portaIngresso():\n",
    "    \n",
    "    antaSinistraPortone = T([1])([0.2])(CUBOID([0.1,0.1,1.2]))\n",
    "    \n",
    "    travePortone = T([1,3])([-0.5,1.2])(CUBOID([0.8,0.1,0.1]))\n",
    "    \n",
    "    trave2Portone = T([1,3])([-0.5,-0.1])(CUBOID([0.8,0.1,0.1]))\n",
    "    \n",
    "    trave3Portone = T([1,3])([-0.2,1.3])(CUBOID([0.6,0.1,0.15]))\n",
    "    \n",
    "    cornicePorta = STRUCT([antaSinistraPortone,travePortone,trave3Portone])\n",
    "    \n",
    "    porta = COLOR([0.6,0.4,0.2])(R([2,3])(PI/2)(T([1,2,3])([-0.6,-0.001,-0.1])(CUBOID([0.8,1.2]))))\n",
    "    \n",
    "    return S([1,2,3])([200,200,200])(T([1,2,3])([2.35,3.5,0.5])(STRUCT([porta,TEXTURE(\"intonacoFinestre.jpg\")(\n",
    "        STRUCT([cornicePorta,T([1,2])([-0.4,0.1])(R([1,2])(PI)(cornicePorta))]))])))\n",
    "\n",
    "def portaLaterale():\n",
    "    \n",
    "    antaSinistraPortone = T([1])([0.2])(CUBOID([0.1,0.1,1.2]))\n",
    "    \n",
    "    travePortone = T([1,3])([-0.5,1.2])(CUBOID([0.8,0.1,0.1]))\n",
    "    \n",
    "    trave2Portone = T([1,3])([-0.5,-0.1])(CUBOID([0.8,0.1,0.1]))\n",
    "    \n",
    "    trave3Portone = T([1,3])([-0.2,1.3])(CUBOID([0.6,0.1,0.15]))\n",
    "    \n",
    "    cornicePorta = STRUCT([antaSinistraPortone,travePortone,trave3Portone])\n",
    "    \n",
    "    porta = COLOR([0.6,0.4,0.2])(R([2,3])(PI/2)(T([1,2,3])([-0.6,-0.001,-0.1])(CUBOID([0.8,1.2]))))\n",
    "    \n",
    "    portaCompleta = T([1,2,3])([2,-3.5,0.5])(STRUCT([porta,TEXTURE(\"intonacoFinestre.jpg\")(\n",
    "        STRUCT([cornicePorta,T([1,2])([-0.4,0.1])(R([1,2])(PI)(cornicePorta))]))]))\n",
    "    \n",
    "    base = TEXTURE(\"intonacoVilla.jpg\")(R([1,2])(PI/2)(T([1,2,3])([-3.5,-2.88,-0.5])(CUBOID([1,4.42,1]))))\n",
    "    \n",
    "    scalaLaterale = R([2,3])(-PI)(R([1,2])(PI/2)(T([1,2,3])([2.5,-4.38,-0.5])(TEXTURE(\"scala.jpg\")\n",
    "        (DIFFERENCE([CUBOID([1,1.5,1]),piramide(3,70000,1)])))))\n",
    "    \n",
    "    corrimanoLaterale1 = R([2,3])(-PI)(R([1,2])(PI/2)(T([1,2,3])([2.2,-4.3,-1])(DIFFERENCE([CUBOID([0.3,1.5,1.5]),piramide(3,70000,1)]))))\n",
    "    \n",
    "    corrimanoLaterale2 = R([1,2])(PI/2)(T([1,2,3])([-2.5,-2.9,-0.5])(CUBOID([0.3,4.42,1.5])))\n",
    "    \n",
    "    corrimanoLaterale = TEXTURE(\"intonacoVilla.jpg\")(STRUCT([corrimanoLaterale1,corrimanoLaterale2]))\n",
    "    \n",
    "    return STRUCT([base,S([1,2,3])([100,100,100])(R([1,2])(PI/2)(R([2,3])(2*PI)(T([1,2,3])([2.35,3.5,0.5])(\n",
    "        STRUCT([base,portaCompleta,scalaLaterale,corrimanoLaterale])))))])"
   ]
  },
  {
   "cell_type": "markdown",
   "metadata": {},
   "source": [
    "La villa è formata da due tetti: sono creati attraverso l'estrusione di due triangoli."
   ]
  },
  {
   "cell_type": "code",
   "execution_count": 74,
   "metadata": {
    "collapsed": true
   },
   "outputs": [],
   "source": [
    "def tettoTriangolare1(depth,width):\n",
    "    return TEXTURE(\"tetto.jpg\")(S([1,2,3])([22,28.34,30])(T([1,2,3])([29.5,2.3,20])((ROTATE([1, 2])(PI)(ROTATE([2,3])(PI/2)(\n",
    "        MULTEXTRUDE(MKPOL([[[0, 0],[width/2,width/4],[width,0]],[[1,2,3]],None]))(depth)))))))\n",
    "\n",
    "def tettoTriangolare2(depth,width):\n",
    "    return TEXTURE(\"tetto.jpg\")(ROTATE([1,2])(PI/2)(S([1,2,3])([28,28.65,35])(T([1,2,3])([24.65,-30,17.15])(ROTATE([1, 2])(PI)(ROTATE([2,3])(PI/2)(\n",
    "        MULTEXTRUDE(MKPOL([[[0, 0],[width/2,width/4],[width,0]],[[1,2,3]],None]))(depth)))))))\n",
    "\n",
    "def fregioTetto():\n",
    "    return TEXTURE(\"fregio.png\")(T(2)(853)(tettoTriangolo1(0,20)))\n",
    "\n",
    "def comignoli():\n",
    "    \n",
    "    base = TEXTURE(\"intonacoVilla.jpg\")(T([1,2])([2.5,2.5])(CUBOID([10,10,20])))\n",
    "    \n",
    "    tettino = TEXTURE(\"intonacoTetto.jpg\")(T(3)(20)(CUBOID([15,15,2])))\n",
    "    \n",
    "    rialzo = TEXTURE(\"intonacoVilla.jpg\")(CUBOID([2,1.5,2]))\n",
    "    \n",
    "    rialziDestra = TEXTURE(\"intonacoVilla.jpg\")(\n",
    "        STRUCT([T([1,2,3])([1,1,22])(rialzo),T([1,2,3])([1,6.75,22])(rialzo),T([1,2,3])([1,12.5,22])(rialzo)]))\n",
    "    \n",
    "    rialziSinistra = TEXTURE(\"intonacoVilla.jpg\")(\n",
    "        STRUCT([T([1,2,3])([12,1,22])(rialzo),T([1,2,3])([12,6.75,22])(rialzo),T([1,2,3])([12,12,22])(rialzo)]))\n",
    "    \n",
    "    tetto = TEXTURE(\"intonacoVilla.jpg\")(T(3)(24)(CUBOID([15,15,1])))\n",
    "    \n",
    "    comignolo = S([1,2,3])([4,4,4])(STRUCT([base,tettino,rialziDestra,rialziSinistra,tettino,tetto]))\n",
    "    \n",
    "    return STRUCT([T([1,2,3])([165,600,625])(comignolo),T([1,2,3])([635,600,625])(comignolo),\n",
    "                  R([1,2])(PI/2)(T([1,2,3])([205,-100,655])(comignolo)),R([1,2])(PI/2)(T([1,2,3])([205,-820,655])(comignolo))])"
   ]
  },
  {
   "cell_type": "markdown",
   "metadata": {},
   "source": [
    "Per realizzare la scala, sia quella d'ingresso che quella laterale, è stata usata la funzione DIFFERENCE tra un Cubo ed una Piramide."
   ]
  },
  {
   "cell_type": "code",
   "execution_count": 75,
   "metadata": {
    "collapsed": true
   },
   "outputs": [],
   "source": [
    "def piramide(depth,width,height):\n",
    "    \n",
    "    _width = float(width)\n",
    "    \n",
    "    _scale = float(depth)/_width\n",
    "    \n",
    "    _height = float(height)\n",
    "    \n",
    "    return SCALE(2)(_scale)(ROTATE([1,2])(PI/4)(CONE([_width*(1/SQRT(2)),_height])(4)))\n",
    "\n",
    "def scala():\n",
    "    \n",
    "    corrimanoDestro = TEXTURE(\"intonacoVilla.jpg\")(T([1,2,3])([330,1070,127.5])(R([2,3])(-PI)(DIFFERENCE([CUBOID([20,150,130]),\n",
    "                                                                             piramide(400,10000,100)]))))\n",
    "    \n",
    "    corrimanoSinistro = TEXTURE(\"intonacoVilla.jpg\")(T([1,2,3])([500,1070,127.5])(R([2,3])(-PI)(DIFFERENCE([CUBOID([20,150,130]),\n",
    "                                                                             piramide(400,10000,100)]))))\n",
    "    \n",
    "    return STRUCT([T([1,2,3])([350,1070,102])(R([2,3])(-PI)(TEXTURE(\"scala.jpg\")(DIFFERENCE([CUBOID([160,150,103]),\n",
    "                                                                        piramide(300,70000,100)])))),corrimanoDestro,\n",
    "                                                                                                          corrimanoSinistro])\n",
    "\n",
    "def prato():\n",
    "    \n",
    "    vialetto = TEXTURE(\"vialetto.jpg\")(T([1,2])([1480,1600])(CUBOID([190,1200])))\n",
    "    \n",
    "    prato = TEXTURE(\"prato.jpg\")(S([1,2])([2,2])(CUBOID([1600,1400])))\n",
    "    \n",
    "    return STRUCT([prato,vialetto])"
   ]
  },
  {
   "cell_type": "code",
   "execution_count": 76,
   "metadata": {
    "collapsed": true
   },
   "outputs": [],
   "source": [
    "def villaChiericati():\n",
    "    \n",
    "    villa = T([1,2])([1150,600])(STRUCT([tettoTriangolare2(30,22),tettoTriangolare1(30,20),finestreFrontali(),\n",
    "             finestreLaterali(),portaIngresso(),perimetro(),colonnato(),scala(),portaLaterale(),comignoli(),fregio_tetto()]))\n",
    "    \n",
    "    return STRUCT([villa,prato()])"
   ]
  },
  {
   "cell_type": "code",
   "execution_count": 77,
   "metadata": {},
   "outputs": [
    {
     "name": "stdout",
     "output_type": "stream",
     "text": [
      "Child 3\n",
      "Child 3\n",
      "Child 3\n",
      "Child 3\n",
      "Child 3\n",
      "Child 3\n",
      "Child 3\n",
      "Child 3\n"
     ]
    },
    {
     "data": {
      "text/plain": [
       "<pyplasm.xgepy.Hpc; proxy of <Swig Object of type 'std::shared_ptr< Hpc > *' at 0x000000000F0E4CF0> >"
      ]
     },
     "execution_count": 77,
     "metadata": {},
     "output_type": "execute_result"
    }
   ],
   "source": [
    "VIEW(villaChiericati())"
   ]
  },
  {
   "cell_type": "code",
   "execution_count": null,
   "metadata": {
    "collapsed": true
   },
   "outputs": [],
   "source": []
  }
 ],
 "metadata": {
  "kernelspec": {
   "display_name": "Python 2",
   "language": "python",
   "name": "python2"
  },
  "language_info": {
   "codemirror_mode": {
    "name": "ipython",
    "version": 2
   },
   "file_extension": ".py",
   "mimetype": "text/x-python",
   "name": "python",
   "nbconvert_exporter": "python",
   "pygments_lexer": "ipython2",
   "version": "2.7.13"
  }
 },
 "nbformat": 4,
 "nbformat_minor": 2
}
