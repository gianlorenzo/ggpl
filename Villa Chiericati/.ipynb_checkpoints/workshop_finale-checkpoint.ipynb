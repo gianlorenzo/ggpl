{
 "cells": [
  {
   "cell_type": "markdown",
   "metadata": {},
   "source": [
    "# Workshop Finale"
   ]
  },
  {
   "cell_type": "markdown",
   "metadata": {},
   "source": [
    "## Realizzazione di Villa Chiericati in PyPlasm, progettata dall'architetto Andrea Palladio"
   ]
  },
  {
   "cell_type": "raw",
   "metadata": {},
   "source": [
    "Nel workshop precedente è stata realizzata la piantina di 2D della Villa. Utilizzando InkScape ed Autocad è stato creato il file .svg il quale successivamente è stato convertito in un file di linee .lines. Attraverso la definizione della seguente funzione, le linee contenute il questo file, vengono trasformate in un modello larlib [V,EV] costituito dai vertici e dagli spigoli della piantina."
   ]
  },
  {
   "cell_type": "code",
   "execution_count": 1,
   "metadata": {},
   "outputs": [
    {
     "name": "stdout",
     "output_type": "stream",
     "text": [
      "Evaluating fenvs.py..\n",
      "...fenvs.py imported in 0.0224622988214 seconds\n"
     ]
    }
   ],
   "source": [
    "from pyplasm import*\n",
    "from larlib import*\n",
    "import math\n",
    "import csv"
   ]
  },
  {
   "cell_type": "code",
   "execution_count": 2,
   "metadata": {
    "collapsed": true
   },
   "outputs": [],
   "source": [
    "def perimetro(): \n",
    "    with open(\"perimetro.lines\", \"rb\") as file:\n",
    "        file_reader = csv.reader(file, delimiter=\",\")\n",
    "        chiavi = {} ### diizionario delle chiavi\n",
    "        nodi = [] ### array con i vertici\n",
    "        archi= [] ### array con gli archi, ovvero gli spigoli\n",
    "        i = 0 ### inizializzo un contatore\n",
    "    \n",
    "        for righe in file_reader:\n",
    "            riga0 = math.floor(float(righe[0])*100)/100\n",
    "            riga1 = math.floor(float(righe[1])*100)/100\n",
    "            riga2 = math.floor(float(righe[2])*100)/100\n",
    "            riga3 = math.floor(float(righe[3])*100)/100\n",
    "        \n",
    "            if not(riga0,riga1) in chiavi.keys():\n",
    "                chiavi[(riga0,riga1)] = i\n",
    "                nodi.append((riga0,riga1))\n",
    "                i = i+1\n",
    "            \n",
    "            if not(riga2,riga3) in chiavi.keys():\n",
    "                chiavi[(riga2,riga3)] = i\n",
    "                nodi.append((riga2,riga3))\n",
    "                i = i+1\n",
    "            archi.append((chiavi[(riga0,riga1)],(chiavi[(riga2,riga3)])))\n",
    "        pavimento = T(2)(80)(CUBOID([850,600]))\n",
    "        corpoVilla = MULTEXTRUDE(OFFSET([20, 20])(STRUCT(MKPOLS([nodi,archi]))))(600)\n",
    "    return TEXTURE(\"intonaco.jpg\")(STRUCT([pavimento,corpoVilla]))\n",
    "        \n"
   ]
  },
  {
   "cell_type": "code",
   "execution_count": 3,
   "metadata": {},
   "outputs": [
    {
     "data": {
      "text/plain": [
       "<pyplasm.xgepy.Hpc; proxy of <Swig Object of type 'std::shared_ptr< Hpc > *' at 0x000000000E77AD20> >"
      ]
     },
     "execution_count": 3,
     "metadata": {},
     "output_type": "execute_result"
    }
   ],
   "source": [
    "VIEW(perimetro())"
   ]
  },
  {
   "cell_type": "code",
   "execution_count": 3,
   "metadata": {
    "collapsed": true
   },
   "outputs": [],
   "source": [
    "def columna(dm,h,h_base):\n",
    "    cylndr = COMP([JOIN,TRUNCONE([dm/2,0.8*(dm/2),h])])(24)\n",
    "    torus_bot = COMP([JOIN,TORUS([dm/12,dm/2])])([8,24])\n",
    "    torus_top = COMP([JOIN,TORUS([0.8*(dm/12),0.8*(dm/2)])])([8,27])\n",
    "    base = COMP([T([1,2])([7*(dm/-12),7*(dm/-23)]),CUBOID])([7*(dm/6),7*(dm/6),h_base])\n",
    "    base_top = COMP([T([1,2])([7*(dm/-12),7*(dm/-12)]),CUBOID])([7*(dm/6),7*(dm/6),dm/6])\n",
    "    capital = SUM([COMP([JOIN,TRUNCONE([0.8*dm/2, 1.2*dm/2,h/8])])(4),COMP([R([1,2])(PI/4),JOIN,TRUNCONE([0.8*dm/2,1.2*dm/2,\n",
    "                                                                                                         h/8])])(4)]) \n",
    "    return (TOP([TOP([TOP([TOP([TOP([base, torus_bot]), cylndr]), torus_top]), capital]), base_top]))\n",
    "\n",
    "def colonnato():\n",
    "    basePortico = T([1,2])([211,695])(CUBOID([436,220,100]))\n",
    "    return TEXTURE(\"intonaco.jpg\")(STRUCT([T([1,2,3])([245,880,100])(columna(50,385,20)),\n",
    "            T([1,2,3])([625,880,100])(columna(50,385,20)),T([1,2,3])([545,880,100])(columna(50,385,20)),\n",
    "             T([1,2,3])([325,880,100])(columna(50,385,20)),basePortico]))\n",
    "    "
   ]
  },
  {
   "cell_type": "code",
   "execution_count": 4,
   "metadata": {},
   "outputs": [
    {
     "name": "stdout",
     "output_type": "stream",
     "text": [
      "Child 3\n",
      "Child 3\n",
      "Child 3\n",
      "Child 3\n",
      "Child 3\n",
      "Child 3\n",
      "Child 3\n",
      "Child 3\n"
     ]
    },
    {
     "data": {
      "text/plain": [
       "<pyplasm.xgepy.Hpc; proxy of <Swig Object of type 'std::shared_ptr< Hpc > *' at 0x000000000E4C0FC0> >"
      ]
     },
     "execution_count": 4,
     "metadata": {},
     "output_type": "execute_result"
    }
   ],
   "source": [
    "VIEW(STRUCT([perimetro(), colonnato()]))"
   ]
  },
  {
   "cell_type": "code",
   "execution_count": 144,
   "metadata": {},
   "outputs": [
    {
     "name": "stdout",
     "output_type": "stream",
     "text": [
      "Child 3\n",
      "Child 3\n",
      "Child 3\n",
      "Child 3\n",
      "Child 3\n",
      "Child 3\n",
      "Child 3\n",
      "Child 3\n"
     ]
    },
    {
     "data": {
      "text/plain": [
       "<pyplasm.xgepy.Hpc; proxy of <Swig Object of type 'std::shared_ptr< Hpc > *' at 0x000000000E6CFB10> >"
      ]
     },
     "execution_count": 144,
     "metadata": {},
     "output_type": "execute_result"
    }
   ],
   "source": [
    "def traveEAnta():\n",
    "    antaSinistraPortone = T([1])([0.2])(CUBOID([0.1,0.1,1.2]))\n",
    "    travePortone = T([1,3])([-0.5,1.2])(CUBOID([0.8,0.1,0.1]))\n",
    "    trave2Portone = T([1,3])([-0.5,-0.1])(CUBOID([0.8,0.1,0.1]))\n",
    "    trave3Portone = T([1,3])([-0.2,1.3])(CUBOID([0.6,0.1,0.15]))\n",
    "    return STRUCT([antaSinistraPortone,travePortone,trave2Portone,trave3Portone])\n",
    "\n",
    "def finestreFrontali():\n",
    "    antaFinestra = COLOR([0.6,0.4,0.2])(R([2,3])(PI/2)(T([1,2,3])([-0.6,-0.1,-0.1])(CUBOID([0.8,1.3]))))\n",
    "    finestraInferiore = STRUCT([antaFinestra,\n",
    "                                        TEXTURE(\"intonaco.jpg\")(STRUCT([traveEAnta(),\n",
    "                                                                        T([1,2])([-0.4,0.1])(R([1,2])(PI)(traveEAnta()))]))])\n",
    "    finestraSuperiore = COLOR([0.6,0.4,0.2])(R([1,3])(PI/2)(R([2,3])(PI/2)(CUBOID([0.6,1]))))\n",
    "    return S([1,2,3])([100,100,100])(STRUCT([T([1,2,3])([7.75,6.95,1.5])(finestraInferiore),\n",
    "                                             T([1,2,3])([1.2,6.95,1.6])(finestraInferiore), \n",
    "                                             T([1,2,3])([1.5,7,4.6])(finestraSuperiore),\n",
    "                                             T([1,2,3])([8.1,7,4.6])(finestraSuperiore)]))\n",
    "\n",
    "VIEW(STRUCT([perimetro(),colonnato(),finestreFrontali()]))\n",
    "\n"
   ]
  },
  {
   "cell_type": "code",
   "execution_count": 29,
   "metadata": {
    "collapsed": true
   },
   "outputs": [],
   "source": [
    "def tetto_triangolo1(depth, width):\n",
    "    return TEXTURE(\"tetto.jpg\")(S([1,2,3])([22,28.34,30])(T([1,2,3])([29.5,2.3,20])((ROTATE([1, 2])(PI)(ROTATE([2,3])(PI/2)(\n",
    "        MULTEXTRUDE(MKPOL([[[0, 0],[width/2,width/4],[width,0]],[[1,2,3]],None]))(depth)))))))\n",
    "\n",
    "def tetto_triangolo2(depth,width):\n",
    "    return TEXTURE(\"tetto.jpg\")(ROTATE([1,2])(PI/2)(S([1,2,3])([28,28.65,35])(T([1,2,3])([24.65,-30,17.15])(ROTATE([1, 2])(PI)(ROTATE([2,3])(PI/2)(\n",
    "        MULTEXTRUDE(MKPOL([[[0, 0],[width/2,width/4],[width,0]],[[1,2,3]],None]))(depth)))))))\n",
    "\n",
    "def tetto_piramidale(depth, width, height):\n",
    "   \n",
    "    _width = float(width)\n",
    "    _scale = float(depth) / _width\n",
    "    _height = float(height)\n",
    "    return SCALE(2)(_scale)(ROTATE([1, 2])(PI / 4)(CONE([_width * (1 / SQRT(2)), _height])(4)))\n",
    "    "
   ]
  },
  {
   "cell_type": "code",
   "execution_count": 91,
   "metadata": {},
   "outputs": [
    {
     "name": "stdout",
     "output_type": "stream",
     "text": [
      "Child 3\n",
      "Child 3\n",
      "Child 3\n",
      "Child 3\n",
      "Child 3\n",
      "Child 3\n",
      "Child 3\n",
      "Child 3\n"
     ]
    },
    {
     "data": {
      "text/plain": [
       "<pyplasm.xgepy.Hpc; proxy of <Swig Object of type 'std::shared_ptr< Hpc > *' at 0x000000000E61BF00> >"
      ]
     },
     "execution_count": 91,
     "metadata": {},
     "output_type": "execute_result"
    }
   ],
   "source": [
    "VIEW(STRUCT([tetto_triangolo2(30,22),tetto_triangolo1(30,20),perimetro(),colonnato(),finestreFrontali()]))"
   ]
  },
  {
   "cell_type": "code",
   "execution_count": 6,
   "metadata": {
    "collapsed": true
   },
   "outputs": [],
   "source": [
    "def scala():\n",
    "    return T([1,2,3])([350,1070,102])(R([2,3])(-PI)(DIFFERENCE([CUBOID([160,150,103]),tetto_piramidale(300,70000,100)])))\n",
    "\n",
    "def prato():\n",
    "    return TEXTURE(\"prato.jpg\")(S([1,2])([2,2])(CUBOID([1600,1400])))"
   ]
  },
  {
   "cell_type": "code",
   "execution_count": 7,
   "metadata": {},
   "outputs": [
    {
     "name": "stdout",
     "output_type": "stream",
     "text": [
      "Child 3\n",
      "Child 3\n",
      "Child 3\n",
      "Child 3\n",
      "Child 3\n",
      "Child 3\n",
      "Child 3\n",
      "Child 3\n"
     ]
    },
    {
     "data": {
      "text/plain": [
       "<pyplasm.xgepy.Hpc; proxy of <Swig Object of type 'std::shared_ptr< Hpc > *' at 0x000000000E4C0900> >"
      ]
     },
     "execution_count": 7,
     "metadata": {},
     "output_type": "execute_result"
    }
   ],
   "source": [
    "VIEW(STRUCT([tetto_triangolo2(30,22),tetto_triangolo1(30,20),perimetro(),colonnato(),scala()]))"
   ]
  },
  {
   "cell_type": "code",
   "execution_count": null,
   "metadata": {
    "collapsed": true
   },
   "outputs": [],
   "source": []
  }
 ],
 "metadata": {
  "kernelspec": {
   "display_name": "Python 2",
   "language": "python",
   "name": "python2"
  },
  "language_info": {
   "codemirror_mode": {
    "name": "ipython",
    "version": 2
   },
   "file_extension": ".py",
   "mimetype": "text/x-python",
   "name": "python",
   "nbconvert_exporter": "python",
   "pygments_lexer": "ipython2",
   "version": "2.7.13"
  }
 },
 "nbformat": 4,
 "nbformat_minor": 2
}
