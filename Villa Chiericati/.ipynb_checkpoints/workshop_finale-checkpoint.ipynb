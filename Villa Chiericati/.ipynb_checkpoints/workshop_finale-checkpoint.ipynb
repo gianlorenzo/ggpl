{
 "cells": [
  {
   "cell_type": "markdown",
   "metadata": {},
   "source": [
    "# Workshop Finale"
   ]
  },
  {
   "cell_type": "markdown",
   "metadata": {},
   "source": [
    "## Realizzazione di Villa Chiericati in PyPlasm, progettata dall'architetto Andrea Palladio"
   ]
  },
  {
   "cell_type": "raw",
   "metadata": {},
   "source": [
    "Nel workshop precedente è stata realizzata la piantina di 2D della Villa. Utilizzando InkScape ed Autocad è stato creato il file .svg il quale successivamente è stato convertito in un file di linee .lines. Attraverso la definizione della seguente funzione, le linee contenute il questo file, vengono trasformate in un modello larlib [V,EV] costituito dai vertici e dagli spigoli della piantina."
   ]
  },
  {
   "cell_type": "code",
   "execution_count": 2,
   "metadata": {},
   "outputs": [
    {
     "name": "stdout",
     "output_type": "stream",
     "text": [
      "Evaluating fenvs.py..\n",
      "...fenvs.py imported in 0.0222186623734 seconds\n"
     ]
    }
   ],
   "source": [
    "from pyplasm import*\n",
    "from larlib import*\n",
    "import math\n",
    "import csv"
   ]
  },
  {
   "cell_type": "code",
   "execution_count": 3,
   "metadata": {
    "collapsed": true
   },
   "outputs": [],
   "source": [
    "def perimetro(): \n",
    "    with open(\"perimetro.lines\", \"rb\") as file:\n",
    "        file_reader = csv.reader(file, delimiter=\",\")\n",
    "        chiavi = {} ### diizionario delle chiavi\n",
    "        nodi = [] ### array con i vertici\n",
    "        archi= [] ### array con gli archi, ovvero gli spigoli\n",
    "        i = 0 ### inizializzo un contatore\n",
    "    \n",
    "        for righe in file_reader:\n",
    "            riga0 = math.floor(float(righe[0])*100)/100\n",
    "            riga1 = math.floor(float(righe[1])*100)/100\n",
    "            riga2 = math.floor(float(righe[2])*100)/100\n",
    "            riga3 = math.floor(float(righe[3])*100)/100\n",
    "        \n",
    "            if not(riga0,riga1) in chiavi.keys():\n",
    "                chiavi[(riga0,riga1)] = i\n",
    "                nodi.append((riga0,riga1))\n",
    "                i = i+1\n",
    "            \n",
    "            if not(riga2,riga3) in chiavi.keys():\n",
    "                chiavi[(riga2,riga3)] = i\n",
    "                nodi.append((riga2,riga3))\n",
    "                i = i+1\n",
    "            archi.append((chiavi[(riga0,riga1)],(chiavi[(riga2,riga3)])))\n",
    "        pavimento = T(2)(30)(CUBOID([850,700]))\n",
    "    return MULTEXTRUDE(OFFSET([20, 20])(STRUCT(MKPOLS([nodi,archi]))))(600)\n",
    "        \n"
   ]
  },
  {
   "cell_type": "code",
   "execution_count": 74,
   "metadata": {},
   "outputs": [
    {
     "data": {
      "text/plain": [
       "<pyplasm.xgepy.Hpc; proxy of <Swig Object of type 'std::shared_ptr< Hpc > *' at 0x000000000ECE0120> >"
      ]
     },
     "execution_count": 74,
     "metadata": {},
     "output_type": "execute_result"
    }
   ],
   "source": [
    "VIEW(perimetro())"
   ]
  },
  {
   "cell_type": "code",
   "execution_count": 4,
   "metadata": {},
   "outputs": [],
   "source": [
    "def columna(dm,h,h_base):\n",
    "    cylndr = COMP([JOIN,TRUNCONE([dm/2,0.8*(dm/2),h])])(24)\n",
    "    torus_bot = COMP([JOIN,TORUS([dm/12,dm/2])])([8,24])\n",
    "    torus_top = COMP([JOIN,TORUS([0.8*(dm/12),0.8*(dm/2)])])([8,27])\n",
    "    base = COMP([T([1,2])([7*(dm/-12),7*(dm/-23)]),CUBOID])([7*(dm/6),7*(dm/6),h_base])\n",
    "    base_top = COMP([T([1,2])([7*(dm/-12),7*(dm/-12)]),CUBOID])([7*(dm/6),7*(dm/6),dm/6])\n",
    "    capital = SUM([COMP([JOIN,TRUNCONE([0.8*dm/2, 1.2*dm/2,h/8])])(4),COMP([R([1,2])(PI/4),JOIN,TRUNCONE([0.8*dm/2,1.2*dm/2,\n",
    "                                                                                                         h/8])])(4)]) \n",
    "    \n",
    "    return (TOP([TOP([TOP([TOP([TOP([base, torus_bot]), cylndr]), torus_top]), capital]), base_top]))\n",
    "\n",
    "def colonnato():\n",
    "    basePortico = T([1,2])([211,695])(CUBOID([436,220,100]))\n",
    "    return STRUCT([T([1,2,3])([245,880,100])(columna(50,385,20)),\n",
    "            T([1,2,3])([625,880,100])(columna(50,385,20)),T([1,2,3])([545,880,100])(columna(50,385,20)),\n",
    "             T([1,2,3])([325,880,100])(columna(50,375,20)),basePortico])\n",
    "    "
   ]
  },
  {
   "cell_type": "code",
   "execution_count": 5,
   "metadata": {},
   "outputs": [
    {
     "name": "stdout",
     "output_type": "stream",
     "text": [
      "Child 3\n",
      "Child 3\n",
      "Child 3\n",
      "Child 3\n",
      "Child 3\n",
      "Child 3\n",
      "Child 3\n",
      "Child 3\n"
     ]
    },
    {
     "data": {
      "text/plain": [
       "<pyplasm.xgepy.Hpc; proxy of <Swig Object of type 'std::shared_ptr< Hpc > *' at 0x00000000065D0480> >"
      ]
     },
     "execution_count": 5,
     "metadata": {},
     "output_type": "execute_result"
    }
   ],
   "source": [
    "VIEW(STRUCT([perimetro(), colonnato()]))"
   ]
  },
  {
   "cell_type": "code",
   "execution_count": null,
   "metadata": {
    "collapsed": true
   },
   "outputs": [],
   "source": []
  }
 ],
 "metadata": {
  "kernelspec": {
   "display_name": "Python 2",
   "language": "python",
   "name": "python2"
  },
  "language_info": {
   "codemirror_mode": {
    "name": "ipython",
    "version": 2
   },
   "file_extension": ".py",
   "mimetype": "text/x-python",
   "name": "python",
   "nbconvert_exporter": "python",
   "pygments_lexer": "ipython2",
   "version": "2.7.13"
  }
 },
 "nbformat": 4,
 "nbformat_minor": 2
}
